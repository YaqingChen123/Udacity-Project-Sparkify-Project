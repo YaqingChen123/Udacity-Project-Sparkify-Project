{
 "cells": [
  {
   "cell_type": "markdown",
   "metadata": {},
   "source": [
    "# Sparkify Project Workspace\n",
    "This workspace contains a tiny subset (128MB) of the full dataset available (12GB). Feel free to use this workspace to build your project, or to explore a smaller subset with Spark before deploying your cluster on the cloud. Instructions for setting up your Spark cluster is included in the last lesson of the Extracurricular Spark Course content.\n",
    "\n",
    "You can follow the steps below to guide your data analysis and model building portion of this project."
   ]
  },
  {
   "cell_type": "code",
   "execution_count": 1,
   "metadata": {},
   "outputs": [],
   "source": [
    "# import libraries\n",
    "from pyspark.sql import SparkSession, Window\n",
    "from pyspark.sql.functions import avg, col, concat, desc, explode, lit, min, max, split, udf\n",
    "from pyspark.sql.functions import col, countDistinct\n",
    "from pyspark.sql.types import IntegerType\n",
    "from pyspark.sql import SQLContext\n",
    "\n",
    "from pyspark.ml import Pipeline\n",
    "from pyspark.ml.classification import LinearSVC, LogisticRegression,RandomForestClassifier, DecisionTreeClassifier, GBTClassifier\n",
    "from pyspark.ml.evaluation import MulticlassClassificationEvaluator\n",
    "from pyspark.ml.feature import CountVectorizer, IDF, Normalizer, PCA, VectorAssembler, StandardScaler\n",
    "from pyspark.ml.tuning import CrossValidator, ParamGridBuilder\n",
    "from pyspark.mllib.stat import Statistics\n",
    "\n",
    "import pyspark.sql.functions as F\n",
    "import re\n",
    "import datetime\n",
    "import numpy as np\n",
    "import pandas as pd\n",
    "%matplotlib inline\n",
    "import matplotlib.pyplot as plt\n",
    "import seaborn as sns"
   ]
  },
  {
   "cell_type": "code",
   "execution_count": 13,
   "metadata": {},
   "outputs": [],
   "source": [
    "#Extract Browser Type\n",
    "def get_browser(x):\n",
    "    if 'Firefox' in x:\n",
    "        return 'firefox'\n",
    "    elif 'Safari' in x:\n",
    "        if 'Chrome' in x:\n",
    "            return 'chrome'\n",
    "        else:\n",
    "            return 'safari'\n",
    "    elif 'Trident' in x:\n",
    "        return 'ie'\n",
    "    else:\n",
    "        return np.NaN"
   ]
  },
  {
   "cell_type": "code",
   "execution_count": 3,
   "metadata": {},
   "outputs": [],
   "source": [
    "def get_os(x):\n",
    "    if 'Windows' in x:\n",
    "        return 'windows'\n",
    "    elif 'Macintosh' in x:\n",
    "        return 'mac'\n",
    "    elif 'Linux' in x:\n",
    "        return 'linux'\n",
    "    elif 'iPhone' in x:\n",
    "        return 'iphone'\n",
    "    elif 'iPad' in x:\n",
    "        return 'ipad'\n",
    "    else:\n",
    "        return np.NaN"
   ]
  },
  {
   "cell_type": "code",
   "execution_count": 4,
   "metadata": {},
   "outputs": [],
   "source": [
    "# create a Spark session\n",
    "spark = SparkSession.builder \\\n",
    "    .master(\"local\") \\\n",
    "    .appName(\"Creating Features\") \\\n",
    "    .getOrCreate()"
   ]
  },
  {
   "cell_type": "markdown",
   "metadata": {},
   "source": [
    "# Load and Clean Dataset\n",
    "In this workspace, the mini-dataset file is `mini_sparkify_event_data.json`. Load and clean the dataset, checking for invalid or missing data - for example, records without userids or sessionids. "
   ]
  },
  {
   "cell_type": "code",
   "execution_count": 5,
   "metadata": {},
   "outputs": [
    {
     "data": {
      "text/plain": [
       "Row(artist='Martha Tilston', auth='Logged In', firstName='Colin', gender='M', itemInSession=50, lastName='Freeman', length=277.89016, level='paid', location='Bakersfield, CA', method='PUT', page='NextSong', registration=1538173362000, sessionId=29, song='Rockpools', status=200, ts=1538352117000, userAgent='Mozilla/5.0 (Windows NT 6.1; WOW64; rv:31.0) Gecko/20100101 Firefox/31.0', userId='30')"
      ]
     },
     "execution_count": 5,
     "metadata": {},
     "output_type": "execute_result"
    }
   ],
   "source": [
    "stack_overflow_data = 'mini_sparkify_event_data.json'\n",
    "df = spark.read.json(stack_overflow_data)\n",
    "#df.persist()\n",
    "df.head()"
   ]
  },
  {
   "cell_type": "code",
   "execution_count": 4,
   "metadata": {},
   "outputs": [
    {
     "name": "stdout",
     "output_type": "stream",
     "text": [
      "root\n",
      " |-- artist: string (nullable = true)\n",
      " |-- auth: string (nullable = true)\n",
      " |-- firstName: string (nullable = true)\n",
      " |-- gender: string (nullable = true)\n",
      " |-- itemInSession: long (nullable = true)\n",
      " |-- lastName: string (nullable = true)\n",
      " |-- length: double (nullable = true)\n",
      " |-- level: string (nullable = true)\n",
      " |-- location: string (nullable = true)\n",
      " |-- method: string (nullable = true)\n",
      " |-- page: string (nullable = true)\n",
      " |-- registration: long (nullable = true)\n",
      " |-- sessionId: long (nullable = true)\n",
      " |-- song: string (nullable = true)\n",
      " |-- status: long (nullable = true)\n",
      " |-- ts: long (nullable = true)\n",
      " |-- userAgent: string (nullable = true)\n",
      " |-- userId: string (nullable = true)\n",
      "\n"
     ]
    }
   ],
   "source": [
    "df.printSchema()"
   ]
  },
  {
   "cell_type": "code",
   "execution_count": 34,
   "metadata": {},
   "outputs": [
    {
     "data": {
      "text/plain": [
       "DataFrame[summary: string, artist: string, auth: string, firstName: string, gender: string, itemInSession: string, lastName: string, length: string, level: string, location: string, method: string, page: string, registration: string, sessionId: string, song: string, status: string, ts: string, userAgent: string, userId: string]"
      ]
     },
     "execution_count": 34,
     "metadata": {},
     "output_type": "execute_result"
    }
   ],
   "source": [
    "df.describe()"
   ]
  },
  {
   "cell_type": "code",
   "execution_count": 8,
   "metadata": {},
   "outputs": [
    {
     "name": "stdout",
     "output_type": "stream",
     "text": [
      "+----------------+---------+---------+------+-------------+--------+---------+-----+--------------------+------+--------+-------------+---------+--------------------+------+-------------+--------------------+------+\n",
      "|          artist|     auth|firstName|gender|itemInSession|lastName|   length|level|            location|method|    page| registration|sessionId|                song|status|           ts|           userAgent|userId|\n",
      "+----------------+---------+---------+------+-------------+--------+---------+-----+--------------------+------+--------+-------------+---------+--------------------+------+-------------+--------------------+------+\n",
      "|  Martha Tilston|Logged In|    Colin|     M|           50| Freeman|277.89016| paid|     Bakersfield, CA|   PUT|NextSong|1538173362000|       29|           Rockpools|   200|1538352117000|Mozilla/5.0 (Wind...|    30|\n",
      "|Five Iron Frenzy|Logged In|    Micah|     M|           79|    Long|236.09424| free|Boston-Cambridge-...|   PUT|NextSong|1538331630000|        8|              Canada|   200|1538352180000|\"Mozilla/5.0 (Win...|     9|\n",
      "|    Adam Lambert|Logged In|    Colin|     M|           51| Freeman| 282.8273| paid|     Bakersfield, CA|   PUT|NextSong|1538173362000|       29|   Time For Miracles|   200|1538352394000|Mozilla/5.0 (Wind...|    30|\n",
      "|          Enigma|Logged In|    Micah|     M|           80|    Long|262.71302| free|Boston-Cambridge-...|   PUT|NextSong|1538331630000|        8|Knocking On Forbi...|   200|1538352416000|\"Mozilla/5.0 (Win...|     9|\n",
      "|       Daft Punk|Logged In|    Colin|     M|           52| Freeman|223.60771| paid|     Bakersfield, CA|   PUT|NextSong|1538173362000|       29|Harder Better Fas...|   200|1538352676000|Mozilla/5.0 (Wind...|    30|\n",
      "+----------------+---------+---------+------+-------------+--------+---------+-----+--------------------+------+--------+-------------+---------+--------------------+------+-------------+--------------------+------+\n",
      "only showing top 5 rows\n",
      "\n"
     ]
    }
   ],
   "source": [
    "df.show(n=5)"
   ]
  },
  {
   "cell_type": "code",
   "execution_count": 9,
   "metadata": {},
   "outputs": [
    {
     "data": {
      "text/plain": [
       "[Row(artist='Martha Tilston', auth='Logged In', firstName='Colin', gender='M', itemInSession=50, lastName='Freeman', length=277.89016, level='paid', location='Bakersfield, CA', method='PUT', page='NextSong', registration=1538173362000, sessionId=29, song='Rockpools', status=200, ts=1538352117000, userAgent='Mozilla/5.0 (Windows NT 6.1; WOW64; rv:31.0) Gecko/20100101 Firefox/31.0', userId='30'),\n",
       " Row(artist='Five Iron Frenzy', auth='Logged In', firstName='Micah', gender='M', itemInSession=79, lastName='Long', length=236.09424, level='free', location='Boston-Cambridge-Newton, MA-NH', method='PUT', page='NextSong', registration=1538331630000, sessionId=8, song='Canada', status=200, ts=1538352180000, userAgent='\"Mozilla/5.0 (Windows NT 6.1; WOW64) AppleWebKit/537.36 (KHTML, like Gecko) Chrome/37.0.2062.103 Safari/537.36\"', userId='9'),\n",
       " Row(artist='Adam Lambert', auth='Logged In', firstName='Colin', gender='M', itemInSession=51, lastName='Freeman', length=282.8273, level='paid', location='Bakersfield, CA', method='PUT', page='NextSong', registration=1538173362000, sessionId=29, song='Time For Miracles', status=200, ts=1538352394000, userAgent='Mozilla/5.0 (Windows NT 6.1; WOW64; rv:31.0) Gecko/20100101 Firefox/31.0', userId='30'),\n",
       " Row(artist='Enigma', auth='Logged In', firstName='Micah', gender='M', itemInSession=80, lastName='Long', length=262.71302, level='free', location='Boston-Cambridge-Newton, MA-NH', method='PUT', page='NextSong', registration=1538331630000, sessionId=8, song='Knocking On Forbidden Doors', status=200, ts=1538352416000, userAgent='\"Mozilla/5.0 (Windows NT 6.1; WOW64) AppleWebKit/537.36 (KHTML, like Gecko) Chrome/37.0.2062.103 Safari/537.36\"', userId='9'),\n",
       " Row(artist='Daft Punk', auth='Logged In', firstName='Colin', gender='M', itemInSession=52, lastName='Freeman', length=223.60771, level='paid', location='Bakersfield, CA', method='PUT', page='NextSong', registration=1538173362000, sessionId=29, song='Harder Better Faster Stronger', status=200, ts=1538352676000, userAgent='Mozilla/5.0 (Windows NT 6.1; WOW64; rv:31.0) Gecko/20100101 Firefox/31.0', userId='30')]"
      ]
     },
     "execution_count": 9,
     "metadata": {},
     "output_type": "execute_result"
    }
   ],
   "source": [
    "df.take(5)"
   ]
  },
  {
   "cell_type": "code",
   "execution_count": 47,
   "metadata": {},
   "outputs": [
    {
     "name": "stdout",
     "output_type": "stream",
     "text": [
      "+------+---------+--------+------+-----+--------------------+-------------+--------------------+\n",
      "|userId|firstName|lastName|gender|level|            location| registration|           userAgent|\n",
      "+------+---------+--------+------+-----+--------------------+-------------+--------------------+\n",
      "|    30|    Colin| Freeman|     M| paid|     Bakersfield, CA|1538173362000|Mozilla/5.0 (Wind...|\n",
      "|     9|    Micah|    Long|     M| free|Boston-Cambridge-...|1538331630000|\"Mozilla/5.0 (Win...|\n",
      "|    30|    Colin| Freeman|     M| paid|     Bakersfield, CA|1538173362000|Mozilla/5.0 (Wind...|\n",
      "|     9|    Micah|    Long|     M| free|Boston-Cambridge-...|1538331630000|\"Mozilla/5.0 (Win...|\n",
      "|    30|    Colin| Freeman|     M| paid|     Bakersfield, CA|1538173362000|Mozilla/5.0 (Wind...|\n",
      "+------+---------+--------+------+-----+--------------------+-------------+--------------------+\n",
      "only showing top 5 rows\n",
      "\n"
     ]
    }
   ],
   "source": [
    "#User-level information\n",
    "df.select('userId','firstName','lastName','gender','level','location','registration','userAgent').show(5)"
   ]
  },
  {
   "cell_type": "code",
   "execution_count": 48,
   "metadata": {},
   "outputs": [
    {
     "name": "stdout",
     "output_type": "stream",
     "text": [
      "+-------------+--------+---------+---------+-------------+------+------+\n",
      "|           ts|    page|     auth|sessionId|itemInSession|method|status|\n",
      "+-------------+--------+---------+---------+-------------+------+------+\n",
      "|1538352117000|NextSong|Logged In|       29|           50|   PUT|   200|\n",
      "|1538352180000|NextSong|Logged In|        8|           79|   PUT|   200|\n",
      "|1538352394000|NextSong|Logged In|       29|           51|   PUT|   200|\n",
      "|1538352416000|NextSong|Logged In|        8|           80|   PUT|   200|\n",
      "|1538352676000|NextSong|Logged In|       29|           52|   PUT|   200|\n",
      "+-------------+--------+---------+---------+-------------+------+------+\n",
      "only showing top 5 rows\n",
      "\n"
     ]
    }
   ],
   "source": [
    "#Log level Information\n",
    "df.select('ts','page','auth','sessionId','itemInSession','method','status').show(5)"
   ]
  },
  {
   "cell_type": "code",
   "execution_count": 49,
   "metadata": {},
   "outputs": [
    {
     "name": "stdout",
     "output_type": "stream",
     "text": [
      "+----------------+--------------------+---------+\n",
      "|          artist|                song|   length|\n",
      "+----------------+--------------------+---------+\n",
      "|  Martha Tilston|           Rockpools|277.89016|\n",
      "|Five Iron Frenzy|              Canada|236.09424|\n",
      "|    Adam Lambert|   Time For Miracles| 282.8273|\n",
      "|          Enigma|Knocking On Forbi...|262.71302|\n",
      "|       Daft Punk|Harder Better Fas...|223.60771|\n",
      "+----------------+--------------------+---------+\n",
      "only showing top 5 rows\n",
      "\n"
     ]
    }
   ],
   "source": [
    "#Song level Information\n",
    "df.select('artist','song','length').show(5)"
   ]
  },
  {
   "cell_type": "code",
   "execution_count": 10,
   "metadata": {},
   "outputs": [
    {
     "data": {
      "text/plain": [
       "286500"
      ]
     },
     "execution_count": 10,
     "metadata": {},
     "output_type": "execute_result"
    }
   ],
   "source": [
    "df.count()"
   ]
  },
  {
   "cell_type": "code",
   "execution_count": 12,
   "metadata": {},
   "outputs": [
    {
     "name": "stdout",
     "output_type": "stream",
     "text": [
      "+-------+-----------------+\n",
      "|summary|           userId|\n",
      "+-------+-----------------+\n",
      "|  count|           286500|\n",
      "|   mean|59682.02278593872|\n",
      "| stddev|109091.9499991047|\n",
      "|    min|                 |\n",
      "|    max|               99|\n",
      "+-------+-----------------+\n",
      "\n"
     ]
    }
   ],
   "source": [
    "df.describe('userId').show()"
   ]
  },
  {
   "cell_type": "code",
   "execution_count": 13,
   "metadata": {},
   "outputs": [
    {
     "name": "stdout",
     "output_type": "stream",
     "text": [
      "+-------+-----------------+\n",
      "|summary|        sessionId|\n",
      "+-------+-----------------+\n",
      "|  count|           286500|\n",
      "|   mean|1041.526554973822|\n",
      "| stddev|726.7762634630741|\n",
      "|    min|                1|\n",
      "|    max|             2474|\n",
      "+-------+-----------------+\n",
      "\n"
     ]
    }
   ],
   "source": [
    "df.describe('sessionId').show()"
   ]
  },
  {
   "cell_type": "code",
   "execution_count": 6,
   "metadata": {},
   "outputs": [],
   "source": [
    "df_valid = df.dropna(how = \"any\", subset = [\"userId\", \"sessionId\"])"
   ]
  },
  {
   "cell_type": "code",
   "execution_count": 5,
   "metadata": {},
   "outputs": [
    {
     "data": {
      "text/plain": [
       "286500"
      ]
     },
     "execution_count": 5,
     "metadata": {},
     "output_type": "execute_result"
    }
   ],
   "source": [
    "df_valid.count()"
   ]
  },
  {
   "cell_type": "code",
   "execution_count": 7,
   "metadata": {},
   "outputs": [
    {
     "name": "stdout",
     "output_type": "stream",
     "text": [
      "+------+\n",
      "|userId|\n",
      "+------+\n",
      "|      |\n",
      "|    10|\n",
      "|   100|\n",
      "|100001|\n",
      "|100002|\n",
      "|100003|\n",
      "|100004|\n",
      "|100005|\n",
      "|100006|\n",
      "|100007|\n",
      "|100008|\n",
      "|100009|\n",
      "|100010|\n",
      "|100011|\n",
      "|100012|\n",
      "|100013|\n",
      "|100014|\n",
      "|100015|\n",
      "|100016|\n",
      "|100017|\n",
      "+------+\n",
      "only showing top 20 rows\n",
      "\n"
     ]
    }
   ],
   "source": [
    "df.select(\"userId\").dropDuplicates().sort(\"userId\").show()"
   ]
  },
  {
   "cell_type": "code",
   "execution_count": 8,
   "metadata": {},
   "outputs": [],
   "source": [
    "# Drop missing user Id\n",
    "df_valid = df_valid.filter(df_valid[\"userId\"] != \"\")"
   ]
  },
  {
   "cell_type": "code",
   "execution_count": 6,
   "metadata": {},
   "outputs": [
    {
     "data": {
      "text/plain": [
       "278154"
      ]
     },
     "execution_count": 6,
     "metadata": {},
     "output_type": "execute_result"
    }
   ],
   "source": [
    "df_valid.count()"
   ]
  },
  {
   "cell_type": "markdown",
   "metadata": {},
   "source": [
    "# Exploratory Data Analysis\n",
    "When you're working with the full dataset, perform EDA by loading a small subset of the data and doing basic manipulations within Spark. In this workspace, you are already provided a small subset of data you can explore.\n",
    "\n",
    "### Define Churn\n",
    "\n",
    "Once you've done some preliminary analysis, create a column `Churn` to use as the label for your model. I suggest using the `Cancellation Confirmation` events to define your churn, which happen for both paid and free users. As a bonus task, you can also look into the `Downgrade` events.\n",
    "\n",
    "### Explore Data\n",
    "Once you've defined churn, perform some exploratory data analysis to observe the behavior for users who stayed vs users who churned. You can start by exploring aggregates on these two groups of users, observing how much of a specific action they experienced per a certain time unit or number of songs played."
   ]
  },
  {
   "cell_type": "code",
   "execution_count": 6,
   "metadata": {},
   "outputs": [
    {
     "data": {
      "text/plain": [
       "[Row(artist='Martha Tilston', auth='Logged In', firstName='Colin', gender='M', itemInSession=50, lastName='Freeman', length=277.89016, level='paid', location='Bakersfield, CA', method='PUT', page='NextSong', registration=1538173362000, sessionId=29, song='Rockpools', status=200, ts=1538352117000, userAgent='Mozilla/5.0 (Windows NT 6.1; WOW64; rv:31.0) Gecko/20100101 Firefox/31.0', userId='30')]"
      ]
     },
     "execution_count": 6,
     "metadata": {},
     "output_type": "execute_result"
    }
   ],
   "source": [
    "df_valid.take(1)"
   ]
  },
  {
   "cell_type": "code",
   "execution_count": 10,
   "metadata": {},
   "outputs": [
    {
     "data": {
      "text/plain": [
       "17656"
      ]
     },
     "execution_count": 10,
     "metadata": {},
     "output_type": "execute_result"
    }
   ],
   "source": [
    "df_valid.select(\"artist\").distinct().count()"
   ]
  },
  {
   "cell_type": "code",
   "execution_count": 20,
   "metadata": {},
   "outputs": [
    {
     "name": "stdout",
     "output_type": "stream",
     "text": [
      "+---------+\n",
      "|     auth|\n",
      "+---------+\n",
      "|Cancelled|\n",
      "|Logged In|\n",
      "+---------+\n",
      "\n"
     ]
    }
   ],
   "source": [
    "df_valid.select(\"auth\").distinct().show()"
   ]
  },
  {
   "cell_type": "code",
   "execution_count": 17,
   "metadata": {},
   "outputs": [
    {
     "name": "stdout",
     "output_type": "stream",
     "text": [
      "+------+\n",
      "|gender|\n",
      "+------+\n",
      "|     F|\n",
      "|     M|\n",
      "+------+\n",
      "\n"
     ]
    }
   ],
   "source": [
    "df_valid.select(\"gender\").distinct().show()"
   ]
  },
  {
   "cell_type": "code",
   "execution_count": 21,
   "metadata": {},
   "outputs": [
    {
     "name": "stdout",
     "output_type": "stream",
     "text": [
      "+-------+------------------+\n",
      "|summary|     itemInSession|\n",
      "+-------+------------------+\n",
      "|  count|            278154|\n",
      "|   mean|114.89918174824018|\n",
      "| stddev|  129.851729399489|\n",
      "|    min|                 0|\n",
      "|    max|              1321|\n",
      "+-------+------------------+\n",
      "\n"
     ]
    }
   ],
   "source": [
    "df_valid.describe('itemInSession').show()"
   ]
  },
  {
   "cell_type": "code",
   "execution_count": 22,
   "metadata": {},
   "outputs": [
    {
     "name": "stdout",
     "output_type": "stream",
     "text": [
      "+-------+-----------------+\n",
      "|summary|           length|\n",
      "+-------+-----------------+\n",
      "|  count|           228108|\n",
      "|   mean|249.1171819778458|\n",
      "| stddev|99.23517921058361|\n",
      "|    min|          0.78322|\n",
      "|    max|       3024.66567|\n",
      "+-------+-----------------+\n",
      "\n"
     ]
    }
   ],
   "source": [
    "df_valid.describe('length').show()"
   ]
  },
  {
   "cell_type": "code",
   "execution_count": 23,
   "metadata": {},
   "outputs": [
    {
     "name": "stdout",
     "output_type": "stream",
     "text": [
      "+-----+\n",
      "|level|\n",
      "+-----+\n",
      "| free|\n",
      "| paid|\n",
      "+-----+\n",
      "\n"
     ]
    }
   ],
   "source": [
    "df_valid.select(\"level\").distinct().show()"
   ]
  },
  {
   "cell_type": "code",
   "execution_count": 24,
   "metadata": {},
   "outputs": [
    {
     "data": {
      "text/plain": [
       "114"
      ]
     },
     "execution_count": 24,
     "metadata": {},
     "output_type": "execute_result"
    }
   ],
   "source": [
    "df_valid.select(\"location\").distinct().count()"
   ]
  },
  {
   "cell_type": "code",
   "execution_count": 25,
   "metadata": {},
   "outputs": [
    {
     "name": "stdout",
     "output_type": "stream",
     "text": [
      "+--------------------+\n",
      "|            location|\n",
      "+--------------------+\n",
      "|     Gainesville, FL|\n",
      "|Atlantic City-Ham...|\n",
      "|Deltona-Daytona B...|\n",
      "|San Diego-Carlsba...|\n",
      "|Cleveland-Elyria, OH|\n",
      "|Kingsport-Bristol...|\n",
      "|New Haven-Milford...|\n",
      "|Birmingham-Hoover...|\n",
      "|  Corpus Christi, TX|\n",
      "|         Dubuque, IA|\n",
      "+--------------------+\n",
      "only showing top 10 rows\n",
      "\n"
     ]
    }
   ],
   "source": [
    "df_valid.select(\"location\").distinct().show(10)"
   ]
  },
  {
   "cell_type": "code",
   "execution_count": 26,
   "metadata": {},
   "outputs": [
    {
     "name": "stdout",
     "output_type": "stream",
     "text": [
      "+------+\n",
      "|method|\n",
      "+------+\n",
      "|   PUT|\n",
      "|   GET|\n",
      "+------+\n",
      "\n"
     ]
    }
   ],
   "source": [
    "df_valid.select(\"method\").distinct().show()"
   ]
  },
  {
   "cell_type": "code",
   "execution_count": 30,
   "metadata": {},
   "outputs": [
    {
     "data": {
      "text/plain": [
       "58481"
      ]
     },
     "execution_count": 30,
     "metadata": {},
     "output_type": "execute_result"
    }
   ],
   "source": [
    "df_valid.select(\"song\").distinct().count()"
   ]
  },
  {
   "cell_type": "code",
   "execution_count": 31,
   "metadata": {},
   "outputs": [
    {
     "name": "stdout",
     "output_type": "stream",
     "text": [
      "+--------------------+\n",
      "|                song|\n",
      "+--------------------+\n",
      "|Never Gonna Be Al...|\n",
      "|         TULENLIEKKI|\n",
      "|      Underwaterboys|\n",
      "|Saor (Free)/News ...|\n",
      "|               New E|\n",
      "|The Geeks Were Right|\n",
      "|              Heaven|\n",
      "|      Call Me Manana|\n",
      "|             Push It|\n",
      "|Cool Monsoon (Wea...|\n",
      "+--------------------+\n",
      "only showing top 10 rows\n",
      "\n"
     ]
    }
   ],
   "source": [
    "df_valid.select(\"song\").distinct().show(10)"
   ]
  },
  {
   "cell_type": "code",
   "execution_count": 32,
   "metadata": {},
   "outputs": [
    {
     "name": "stdout",
     "output_type": "stream",
     "text": [
      "+------+\n",
      "|status|\n",
      "+------+\n",
      "|   307|\n",
      "|   404|\n",
      "|   200|\n",
      "+------+\n",
      "\n"
     ]
    }
   ],
   "source": [
    "df_valid.select(\"status\").distinct().show()"
   ]
  },
  {
   "cell_type": "code",
   "execution_count": 33,
   "metadata": {},
   "outputs": [
    {
     "data": {
      "text/plain": [
       "225"
      ]
     },
     "execution_count": 33,
     "metadata": {},
     "output_type": "execute_result"
    }
   ],
   "source": [
    "df_valid.select(\"userId\").distinct().count()"
   ]
  },
  {
   "cell_type": "code",
   "execution_count": 7,
   "metadata": {},
   "outputs": [
    {
     "name": "stdout",
     "output_type": "stream",
     "text": [
      "+--------------------+\n",
      "|                page|\n",
      "+--------------------+\n",
      "|               About|\n",
      "|          Add Friend|\n",
      "|     Add to Playlist|\n",
      "|              Cancel|\n",
      "|Cancellation Conf...|\n",
      "|           Downgrade|\n",
      "|               Error|\n",
      "|                Help|\n",
      "|                Home|\n",
      "|              Logout|\n",
      "|            NextSong|\n",
      "|         Roll Advert|\n",
      "|       Save Settings|\n",
      "|            Settings|\n",
      "|    Submit Downgrade|\n",
      "|      Submit Upgrade|\n",
      "|         Thumbs Down|\n",
      "|           Thumbs Up|\n",
      "|             Upgrade|\n",
      "+--------------------+\n",
      "\n"
     ]
    }
   ],
   "source": [
    "df_valid.select(\"page\").dropDuplicates().sort(\"page\").show()"
   ]
  },
  {
   "cell_type": "code",
   "execution_count": 8,
   "metadata": {},
   "outputs": [
    {
     "name": "stdout",
     "output_type": "stream",
     "text": [
      "+------+---------+---------+------+-------------+--------+------+-----+--------------------+------+--------------------+-------------+---------+----+------+-------------+--------------------+------+\n",
      "|artist|     auth|firstName|gender|itemInSession|lastName|length|level|            location|method|                page| registration|sessionId|song|status|           ts|           userAgent|userId|\n",
      "+------+---------+---------+------+-------------+--------+------+-----+--------------------+------+--------------------+-------------+---------+----+------+-------------+--------------------+------+\n",
      "|  null|Cancelled|   Adriel|     M|          104| Mendoza|  null| paid|  Kansas City, MO-KS|   GET|Cancellation Conf...|1535623466000|      514|null|   200|1538943990000|\"Mozilla/5.0 (Mac...|    18|\n",
      "|  null|Cancelled|    Diego|     M|           56|   Mckee|  null| paid|Phoenix-Mesa-Scot...|   GET|Cancellation Conf...|1537167593000|      540|null|   200|1539033046000|\"Mozilla/5.0 (iPh...|    32|\n",
      "|  null|Cancelled|    Mason|     M|           10|    Hart|  null| free|  Corpus Christi, TX|   GET|Cancellation Conf...|1533157139000|      174|null|   200|1539318918000|\"Mozilla/5.0 (Mac...|   125|\n",
      "|  null|Cancelled|Alexander|     M|          332|  Garcia|  null| paid|Indianapolis-Carm...|   GET|Cancellation Conf...|1536817381000|      508|null|   200|1539375441000|Mozilla/5.0 (Wind...|   105|\n",
      "|  null|Cancelled|    Kayla|     F|          273| Johnson|  null| paid|Philadelphia-Camd...|   GET|Cancellation Conf...|1538333829000|      797|null|   200|1539465584000|Mozilla/5.0 (Wind...|    17|\n",
      "+------+---------+---------+------+-------------+--------+------+-----+--------------------+------+--------------------+-------------+---------+----+------+-------------+--------------------+------+\n",
      "only showing top 5 rows\n",
      "\n"
     ]
    }
   ],
   "source": [
    "df_valid.filter(\"page = 'Cancellation Confirmation'\").show(n=5)"
   ]
  },
  {
   "cell_type": "code",
   "execution_count": 10,
   "metadata": {},
   "outputs": [
    {
     "data": {
      "text/plain": [
       "[Row(userId='18', firstname='Adriel', page='Home', level='paid', song=None),\n",
       " Row(userId='18', firstname='Adriel', page='NextSong', level='paid', song='A Beggar On A Beach Of Gold'),\n",
       " Row(userId='18', firstname='Adriel', page='NextSong', level='paid', song='...slowdance On The Inside (Album Version)'),\n",
       " Row(userId='18', firstname='Adriel', page='NextSong', level='paid', song='St. Apollonia'),\n",
       " Row(userId='18', firstname='Adriel', page='NextSong', level='paid', song='Drunk Stripper'),\n",
       " Row(userId='18', firstname='Adriel', page='NextSong', level='paid', song='In League With Satan'),\n",
       " Row(userId='18', firstname='Adriel', page='Settings', level='paid', song=None),\n",
       " Row(userId='18', firstname='Adriel', page='NextSong', level='paid', song='The Quest'),\n",
       " Row(userId='18', firstname='Adriel', page='NextSong', level='paid', song='Waking The Demon'),\n",
       " Row(userId='18', firstname='Adriel', page='NextSong', level='paid', song='Why Do You Let Me Stay Here?'),\n",
       " Row(userId='18', firstname='Adriel', page='NextSong', level='paid', song='High (Album Version)'),\n",
       " Row(userId='18', firstname='Adriel', page='NextSong', level='paid', song=\"Remember Me_ I'm The One Who Loves You\"),\n",
       " Row(userId='18', firstname='Adriel', page='Settings', level='paid', song=None),\n",
       " Row(userId='18', firstname='Adriel', page='NextSong', level='paid', song='Continents'),\n",
       " Row(userId='18', firstname='Adriel', page='NextSong', level='paid', song='Girls'),\n",
       " Row(userId='18', firstname='Adriel', page='NextSong', level='paid', song='What If I Do?'),\n",
       " Row(userId='18', firstname='Adriel', page='NextSong', level='paid', song='Soulful Dress'),\n",
       " Row(userId='18', firstname='Adriel', page='NextSong', level='paid', song='Eenie Meenie'),\n",
       " Row(userId='18', firstname='Adriel', page='NextSong', level='paid', song='Kabul Shit'),\n",
       " Row(userId='18', firstname='Adriel', page='NextSong', level='paid', song='Catch You Baby (Steve Pitron & Max Sanna Radio Edit)'),\n",
       " Row(userId='18', firstname='Adriel', page='NextSong', level='paid', song='Window Blues'),\n",
       " Row(userId='18', firstname='Adriel', page='NextSong', level='paid', song='This Life'),\n",
       " Row(userId='18', firstname='Adriel', page='Thumbs Up', level='paid', song=None),\n",
       " Row(userId='18', firstname='Adriel', page='NextSong', level='paid', song='Into Eternity'),\n",
       " Row(userId='18', firstname='Adriel', page='NextSong', level='paid', song='Skeleton Man'),\n",
       " Row(userId='18', firstname='Adriel', page='NextSong', level='paid', song='Everybody Be Somebody'),\n",
       " Row(userId='18', firstname='Adriel', page='NextSong', level='paid', song='Drixxxe Vs Dj Pone (feat. Dj Pone)'),\n",
       " Row(userId='18', firstname='Adriel', page='Thumbs Up', level='paid', song=None),\n",
       " Row(userId='18', firstname='Adriel', page='NextSong', level='paid', song='Back 2 Good (LP Version)'),\n",
       " Row(userId='18', firstname='Adriel', page='NextSong', level='paid', song='Je Suis De Celles'),\n",
       " Row(userId='18', firstname='Adriel', page='NextSong', level='paid', song='Santa Cruz Slacker'),\n",
       " Row(userId='18', firstname='Adriel', page='NextSong', level='paid', song='MVP Kompa'),\n",
       " Row(userId='18', firstname='Adriel', page='NextSong', level='paid', song='All I Need'),\n",
       " Row(userId='18', firstname='Adriel', page='Logout', level='paid', song=None),\n",
       " Row(userId='18', firstname='Adriel', page='Home', level='paid', song=None),\n",
       " Row(userId='18', firstname='Adriel', page='NextSong', level='paid', song='The General'),\n",
       " Row(userId='18', firstname='Adriel', page='NextSong', level='paid', song='Mexican Girl (Album Version)'),\n",
       " Row(userId='18', firstname='Adriel', page='NextSong', level='paid', song='Prisoner Of Love'),\n",
       " Row(userId='18', firstname='Adriel', page='Add to Playlist', level='paid', song=None),\n",
       " Row(userId='18', firstname='Adriel', page='NextSong', level='paid', song='Growing Up'),\n",
       " Row(userId='18', firstname='Adriel', page='NextSong', level='paid', song='Sotaisa rotu'),\n",
       " Row(userId='18', firstname='Adriel', page='NextSong', level='paid', song='Limbo A Go Go'),\n",
       " Row(userId='18', firstname='Adriel', page='NextSong', level='paid', song='Sehr kosmisch'),\n",
       " Row(userId='18', firstname='Adriel', page='NextSong', level='paid', song='Walking For You'),\n",
       " Row(userId='18', firstname='Adriel', page='NextSong', level='paid', song='Sooner You Get To Love'),\n",
       " Row(userId='18', firstname='Adriel', page='NextSong', level='paid', song='Forever Road'),\n",
       " Row(userId='18', firstname='Adriel', page='NextSong', level='paid', song='Skyway Avenue'),\n",
       " Row(userId='18', firstname='Adriel', page='NextSong', level='paid', song='Airport Taxi Reception'),\n",
       " Row(userId='18', firstname='Adriel', page='NextSong', level='paid', song='This World Is Not My Home'),\n",
       " Row(userId='18', firstname='Adriel', page='NextSong', level='paid', song='Slight Night Shiver'),\n",
       " Row(userId='18', firstname='Adriel', page='NextSong', level='paid', song='Air Hostess'),\n",
       " Row(userId='18', firstname='Adriel', page='NextSong', level='paid', song='Heartbeats (Live)'),\n",
       " Row(userId='18', firstname='Adriel', page='NextSong', level='paid', song='Never Let You Go'),\n",
       " Row(userId='18', firstname='Adriel', page='NextSong', level='paid', song='Seventy Times 7'),\n",
       " Row(userId='18', firstname='Adriel', page='NextSong', level='paid', song='Responsible Stu'),\n",
       " Row(userId='18', firstname='Adriel', page='Thumbs Up', level='paid', song=None),\n",
       " Row(userId='18', firstname='Adriel', page='NextSong', level='paid', song=\"Droppin' Like Flies\"),\n",
       " Row(userId='18', firstname='Adriel', page='NextSong', level='paid', song='Inspired By The $'),\n",
       " Row(userId='18', firstname='Adriel', page='Thumbs Up', level='paid', song=None),\n",
       " Row(userId='18', firstname='Adriel', page='NextSong', level='paid', song=\"Don't Leave Me\"),\n",
       " Row(userId='18', firstname='Adriel', page='NextSong', level='paid', song='Murano'),\n",
       " Row(userId='18', firstname='Adriel', page='NextSong', level='paid', song='Bros Sto Rimagmeno Spiti (2003 Digital Remaster)'),\n",
       " Row(userId='18', firstname='Adriel', page='Add Friend', level='paid', song=None),\n",
       " Row(userId='18', firstname='Adriel', page='Add Friend', level='paid', song=None),\n",
       " Row(userId='18', firstname='Adriel', page='NextSong', level='paid', song='Sail Away'),\n",
       " Row(userId='18', firstname='Adriel', page='Thumbs Up', level='paid', song=None),\n",
       " Row(userId='18', firstname='Adriel', page='NextSong', level='paid', song='Great Release'),\n",
       " Row(userId='18', firstname='Adriel', page='NextSong', level='paid', song='Embrace Of The Endless Ocean'),\n",
       " Row(userId='18', firstname='Adriel', page='NextSong', level='paid', song='Rockin Stroll (LP Version)'),\n",
       " Row(userId='18', firstname='Adriel', page='NextSong', level='paid', song=\"We Share Our Mothers' Health (Album Version)\"),\n",
       " Row(userId='18', firstname='Adriel', page='NextSong', level='paid', song='Wanderlust'),\n",
       " Row(userId='18', firstname='Adriel', page='NextSong', level='paid', song='The Man Who Sold The World'),\n",
       " Row(userId='18', firstname='Adriel', page='Thumbs Up', level='paid', song=None),\n",
       " Row(userId='18', firstname='Adriel', page='NextSong', level='paid', song='Fallen'),\n",
       " Row(userId='18', firstname='Adriel', page='NextSong', level='paid', song=\"Don't Dream It's Over\"),\n",
       " Row(userId='18', firstname='Adriel', page='NextSong', level='paid', song='VÃ\\x83Â\\x81NDORMADÃ\\x83Â\\x81R'),\n",
       " Row(userId='18', firstname='Adriel', page='NextSong', level='paid', song='Say Hello (Angello & Ingrosso Remix)'),\n",
       " Row(userId='18', firstname='Adriel', page='NextSong', level='paid', song='Walking Through The Country'),\n",
       " Row(userId='18', firstname='Adriel', page='Thumbs Up', level='paid', song=None),\n",
       " Row(userId='18', firstname='Adriel', page='NextSong', level='paid', song='Three Is A Magic Number'),\n",
       " Row(userId='18', firstname='Adriel', page='NextSong', level='paid', song='Planet Telex'),\n",
       " Row(userId='18', firstname='Adriel', page='NextSong', level='paid', song='Bloody hammer'),\n",
       " Row(userId='18', firstname='Adriel', page='NextSong', level='paid', song='Take It Easy (love Nothing) (Album Version)'),\n",
       " Row(userId='18', firstname='Adriel', page='NextSong', level='paid', song='The Game (Amended Version)'),\n",
       " Row(userId='18', firstname='Adriel', page='NextSong', level='paid', song=\"I'll Be Your Man\"),\n",
       " Row(userId='18', firstname='Adriel', page='NextSong', level='paid', song='All That We Perceive'),\n",
       " Row(userId='18', firstname='Adriel', page='NextSong', level='paid', song=\"You'll Never Know (My Love) (Bovellian 07 Mix)\"),\n",
       " Row(userId='18', firstname='Adriel', page='NextSong', level='paid', song='CIEÃ\\x83Â\\x91'),\n",
       " Row(userId='18', firstname='Adriel', page='Home', level='paid', song=None),\n",
       " Row(userId='18', firstname='Adriel', page='NextSong', level='paid', song='Lover Undercover'),\n",
       " Row(userId='18', firstname='Adriel', page='Home', level='paid', song=None),\n",
       " Row(userId='18', firstname='Adriel', page='NextSong', level='paid', song='I Need Drugs'),\n",
       " Row(userId='18', firstname='Adriel', page='Logout', level='paid', song=None),\n",
       " Row(userId='18', firstname='Adriel', page='Home', level='paid', song=None),\n",
       " Row(userId='18', firstname='Adriel', page='NextSong', level='paid', song='Guyamas Sonora'),\n",
       " Row(userId='18', firstname='Adriel', page='NextSong', level='paid', song='Close Yet Far'),\n",
       " Row(userId='18', firstname='Adriel', page='NextSong', level='paid', song='Watch Me Shine'),\n",
       " Row(userId='18', firstname='Adriel', page='NextSong', level='paid', song='A Lack Of Color (Album Version)'),\n",
       " Row(userId='18', firstname='Adriel', page='NextSong', level='paid', song='Orinoco Flow'),\n",
       " Row(userId='18', firstname='Adriel', page='NextSong', level='paid', song='Bros Sto Rimagmeno Spiti (2003 Digital Remaster)'),\n",
       " Row(userId='18', firstname='Adriel', page='NextSong', level='paid', song='Sky Blue And Black (LP Version)'),\n",
       " Row(userId='18', firstname='Adriel', page='NextSong', level='paid', song='Uninvited'),\n",
       " Row(userId='18', firstname='Adriel', page='NextSong', level='paid', song=\"Runnin'\"),\n",
       " Row(userId='18', firstname='Adriel', page='NextSong', level='paid', song='Mais Do Que Preciso'),\n",
       " Row(userId='18', firstname='Adriel', page='Add to Playlist', level='paid', song=None),\n",
       " Row(userId='18', firstname='Adriel', page='NextSong', level='paid', song='Sunday Morning'),\n",
       " Row(userId='18', firstname='Adriel', page='NextSong', level='paid', song='Thinking About You'),\n",
       " Row(userId='18', firstname='Adriel', page='Add to Playlist', level='paid', song=None),\n",
       " Row(userId='18', firstname='Adriel', page='NextSong', level='paid', song='Pull Me Out (Key-B-Premiere Performance Plus w/o Background Vocals)'),\n",
       " Row(userId='18', firstname='Adriel', page='NextSong', level='paid', song='Break In-City (Storm the Gate!)'),\n",
       " Row(userId='18', firstname='Adriel', page='NextSong', level='paid', song='In The End (Album Version)'),\n",
       " Row(userId='18', firstname='Adriel', page='NextSong', level='paid', song='Dead Man (Carry Me)'),\n",
       " Row(userId='18', firstname='Adriel', page='NextSong', level='paid', song='Songs Of The Season'),\n",
       " Row(userId='18', firstname='Adriel', page='NextSong', level='paid', song='Be Less Rude'),\n",
       " Row(userId='18', firstname='Adriel', page='NextSong', level='paid', song='The Only Exception (Album Version)'),\n",
       " Row(userId='18', firstname='Adriel', page='NextSong', level='paid', song='Backstabber'),\n",
       " Row(userId='18', firstname='Adriel', page='NextSong', level='paid', song='Magic Bus'),\n",
       " Row(userId='18', firstname='Adriel', page='NextSong', level='paid', song='Lover Of Mine'),\n",
       " Row(userId='18', firstname='Adriel', page='Settings', level='paid', song=None),\n",
       " Row(userId='18', firstname='Adriel', page='NextSong', level='paid', song=\"Perhaps She'll Wait\"),\n",
       " Row(userId='18', firstname='Adriel', page='Thumbs Up', level='paid', song=None),\n",
       " Row(userId='18', firstname='Adriel', page='NextSong', level='paid', song='Bleed It Out [Live At Milton Keynes]'),\n",
       " Row(userId='18', firstname='Adriel', page='NextSong', level='paid', song='My Michelle'),\n",
       " Row(userId='18', firstname='Adriel', page='NextSong', level='paid', song='Ignorance (Album Version)'),\n",
       " Row(userId='18', firstname='Adriel', page='NextSong', level='paid', song='Crumpshit'),\n",
       " Row(userId='18', firstname='Adriel', page='NextSong', level='paid', song='The Setup'),\n",
       " Row(userId='18', firstname='Adriel', page='NextSong', level='paid', song='Camera Shop'),\n",
       " Row(userId='18', firstname='Adriel', page='Thumbs Up', level='paid', song=None),\n",
       " Row(userId='18', firstname='Adriel', page='NextSong', level='paid', song='Finale'),\n",
       " Row(userId='18', firstname='Adriel', page='NextSong', level='paid', song='Evil Thing'),\n",
       " Row(userId='18', firstname='Adriel', page='NextSong', level='paid', song='Empire State Of Mind (Part II) Broken Down'),\n",
       " Row(userId='18', firstname='Adriel', page='Thumbs Up', level='paid', song=None),\n",
       " Row(userId='18', firstname='Adriel', page='NextSong', level='paid', song='When All Thy Mercies (LP Version)'),\n",
       " Row(userId='18', firstname='Adriel', page='NextSong', level='paid', song='Careful What You Wish For'),\n",
       " Row(userId='18', firstname='Adriel', page='NextSong', level='paid', song='Jimbo (Album Version)'),\n",
       " Row(userId='18', firstname='Adriel', page='NextSong', level='paid', song='Good Girl Gone Bad'),\n",
       " Row(userId='18', firstname='Adriel', page='NextSong', level='paid', song='Somebody To Love'),\n",
       " Row(userId='18', firstname='Adriel', page='NextSong', level='paid', song='Coda'),\n",
       " Row(userId='18', firstname='Adriel', page='NextSong', level='paid', song='Peuple BurkinabÃ\\x83Â¨'),\n",
       " Row(userId='18', firstname='Adriel', page='NextSong', level='paid', song='Use Somebody'),\n",
       " Row(userId='18', firstname='Adriel', page='NextSong', level='paid', song='Sine Language'),\n",
       " Row(userId='18', firstname='Adriel', page='NextSong', level='paid', song='The Funeral (Album Version)'),\n",
       " Row(userId='18', firstname='Adriel', page='NextSong', level='paid', song=\"L'histoire De Bernard Workers\"),\n",
       " Row(userId='18', firstname='Adriel', page='NextSong', level='paid', song='Hold On'),\n",
       " Row(userId='18', firstname='Adriel', page='NextSong', level='paid', song='Drops Of Jupiter'),\n",
       " Row(userId='18', firstname='Adriel', page='Logout', level='paid', song=None),\n",
       " Row(userId='18', firstname='Adriel', page='Home', level='paid', song=None),\n",
       " Row(userId='18', firstname='Adriel', page='NextSong', level='paid', song='Grace Kelly'),\n",
       " Row(userId='18', firstname='Adriel', page='Add to Playlist', level='paid', song=None),\n",
       " Row(userId='18', firstname='Adriel', page='NextSong', level='paid', song='Mad Cyril (Remastered version)'),\n",
       " Row(userId='18', firstname='Adriel', page='Add to Playlist', level='paid', song=None),\n",
       " Row(userId='18', firstname='Adriel', page='NextSong', level='paid', song='Hold Me_ Thrill Me_ Kiss Me_ Kill Me'),\n",
       " Row(userId='18', firstname='Adriel', page='NextSong', level='paid', song='Clara meets Slope - Hard To Say'),\n",
       " Row(userId='18', firstname='Adriel', page='NextSong', level='paid', song='Tel Que Tu Es'),\n",
       " Row(userId='18', firstname='Adriel', page='Thumbs Up', level='paid', song=None),\n",
       " Row(userId='18', firstname='Adriel', page='NextSong', level='paid', song='Sleepyhead'),\n",
       " Row(userId='18', firstname='Adriel', page='NextSong', level='paid', song='One Four Five'),\n",
       " Row(userId='18', firstname='Adriel', page='NextSong', level='paid', song='Dummes Spiel'),\n",
       " Row(userId='18', firstname='Adriel', page='NextSong', level='paid', song='Wednesday'),\n",
       " Row(userId='18', firstname='Adriel', page='NextSong', level='paid', song='The Beginning'),\n",
       " Row(userId='18', firstname='Adriel', page='NextSong', level='paid', song='Harder To Breathe'),\n",
       " Row(userId='18', firstname='Adriel', page='NextSong', level='paid', song='Got Me'),\n",
       " Row(userId='18', firstname='Adriel', page='NextSong', level='paid', song='Who The Hell Cares'),\n",
       " Row(userId='18', firstname='Adriel', page='NextSong', level='paid', song='Back To You'),\n",
       " Row(userId='18', firstname='Adriel', page='NextSong', level='paid', song='Umoja'),\n",
       " Row(userId='18', firstname='Adriel', page='NextSong', level='paid', song='Praise You'),\n",
       " Row(userId='18', firstname='Adriel', page='NextSong', level='paid', song='Bailamos'),\n",
       " Row(userId='18', firstname='Adriel', page='NextSong', level='paid', song=\"Don't Stand So Close To Me '86\"),\n",
       " Row(userId='18', firstname='Adriel', page='NextSong', level='paid', song='Somebody To Love'),\n",
       " Row(userId='18', firstname='Adriel', page='NextSong', level='paid', song='Ela E Carioca'),\n",
       " Row(userId='18', firstname='Adriel', page='Add to Playlist', level='paid', song=None),\n",
       " Row(userId='18', firstname='Adriel', page='NextSong', level='paid', song='Masquerade (Reality Check Album Version)'),\n",
       " Row(userId='18', firstname='Adriel', page='NextSong', level='paid', song='My Immortal'),\n",
       " Row(userId='18', firstname='Adriel', page='NextSong', level='paid', song='Speed Of Life'),\n",
       " Row(userId='18', firstname='Adriel', page='NextSong', level='paid', song='Four'),\n",
       " Row(userId='18', firstname='Adriel', page='NextSong', level='paid', song='Social Living'),\n",
       " Row(userId='18', firstname='Adriel', page='NextSong', level='paid', song='Speechless'),\n",
       " Row(userId='18', firstname='Adriel', page='NextSong', level='paid', song='Dear Vienna'),\n",
       " Row(userId='18', firstname='Adriel', page='NextSong', level='paid', song='Waking Up In Vegas (Calvin Harris Remix Edit)'),\n",
       " Row(userId='18', firstname='Adriel', page='NextSong', level='paid', song='Freaks'),\n",
       " Row(userId='18', firstname='Adriel', page='NextSong', level='paid', song='Selkies: The Endless Obsession (Album Version)'),\n",
       " Row(userId='18', firstname='Adriel', page='NextSong', level='paid', song='Rayando el sol'),\n",
       " Row(userId='18', firstname='Adriel', page='NextSong', level='paid', song=\"We're An American Band (2002 Digital Remaster)\"),\n",
       " Row(userId='18', firstname='Adriel', page='NextSong', level='paid', song=\"I'm Made Of Wax_ Larry_ What Are You Made Of?\"),\n",
       " Row(userId='18', firstname='Adriel', page='NextSong', level='paid', song=\"Reason I'm Alive (Explicit)\"),\n",
       " Row(userId='18', firstname='Adriel', page='NextSong', level='paid', song='Yellow'),\n",
       " Row(userId='18', firstname='Adriel', page='NextSong', level='paid', song='Such Great Heights'),\n",
       " Row(userId='18', firstname='Adriel', page='NextSong', level='paid', song=\"If I Ain't Got You\"),\n",
       " Row(userId='18', firstname='Adriel', page='Home', level='paid', song=None),\n",
       " Row(userId='18', firstname='Adriel', page='NextSong', level='paid', song='Victim Of The Crime'),\n",
       " Row(userId='18', firstname='Adriel', page='Logout', level='paid', song=None),\n",
       " Row(userId='18', firstname='Adriel', page='Home', level='paid', song=None),\n",
       " Row(userId='18', firstname='Adriel', page='NextSong', level='paid', song='Call On Me'),\n",
       " Row(userId='18', firstname='Adriel', page='NextSong', level='paid', song='Ave Maria No Morro'),\n",
       " Row(userId='18', firstname='Adriel', page='Thumbs Up', level='paid', song=None),\n",
       " Row(userId='18', firstname='Adriel', page='NextSong', level='paid', song='Dom De Iludir'),\n",
       " Row(userId='18', firstname='Adriel', page='NextSong', level='paid', song='Christmas song'),\n",
       " Row(userId='18', firstname='Adriel', page='NextSong', level='paid', song='The Sword & the Pen (Non-Album Track)'),\n",
       " Row(userId='18', firstname='Adriel', page='NextSong', level='paid', song='This Is Six Minutes'),\n",
       " Row(userId='18', firstname='Adriel', page='Add to Playlist', level='paid', song=None),\n",
       " Row(userId='18', firstname='Adriel', page='NextSong', level='paid', song='Duk Koo Kim'),\n",
       " Row(userId='18', firstname='Adriel', page='NextSong', level='paid', song='Seven Nation Army'),\n",
       " Row(userId='18', firstname='Adriel', page='NextSong', level='paid', song='Somebody To Love'),\n",
       " Row(userId='18', firstname='Adriel', page='NextSong', level='paid', song=\"There's No Sympathy For The Dead (Album Version)\"),\n",
       " Row(userId='18', firstname='Adriel', page='NextSong', level='paid', song=\"Wavin'  Flag\"),\n",
       " Row(userId='18', firstname='Adriel', page='NextSong', level='paid', song='Float'),\n",
       " Row(userId='18', firstname='Adriel', page='NextSong', level='paid', song='Schwarze Biene (Black Maja)'),\n",
       " Row(userId='18', firstname='Adriel', page='NextSong', level='paid', song='Lasso'),\n",
       " Row(userId='18', firstname='Adriel', page='NextSong', level='paid', song='Pump It'),\n",
       " Row(userId='18', firstname='Adriel', page='Home', level='paid', song=None),\n",
       " Row(userId='18', firstname='Adriel', page='NextSong', level='paid', song='Amie'),\n",
       " Row(userId='18', firstname='Adriel', page='NextSong', level='paid', song='Still Falling'),\n",
       " Row(userId='18', firstname='Adriel', page='NextSong', level='paid', song='Smile (Explicit Version)'),\n",
       " Row(userId='18', firstname='Adriel', page='NextSong', level='paid', song='Strength'),\n",
       " Row(userId='18', firstname='Adriel', page='Home', level='paid', song=None),\n",
       " Row(userId='18', firstname='Adriel', page='Add Friend', level='paid', song=None),\n",
       " Row(userId='18', firstname='Adriel', page='Add Friend', level='paid', song=None),\n",
       " Row(userId='18', firstname='Adriel', page='NextSong', level='paid', song='Watch The World'),\n",
       " Row(userId='18', firstname='Adriel', page='NextSong', level='paid', song='Again'),\n",
       " Row(userId='18', firstname='Adriel', page='NextSong', level='paid', song='Fight On (2002 Digital Remaster)'),\n",
       " Row(userId='18', firstname='Adriel', page='NextSong', level='paid', song='Aunque no estÃ\\x83Â© de moda'),\n",
       " Row(userId='18', firstname='Adriel', page='NextSong', level='paid', song='A Sunday Smile'),\n",
       " Row(userId='18', firstname='Adriel', page='NextSong', level='paid', song='The Scientist'),\n",
       " Row(userId='18', firstname='Adriel', page='NextSong', level='paid', song='Yamulemau'),\n",
       " Row(userId='18', firstname='Adriel', page='NextSong', level='paid', song='The Fight Song (Crash And Burn)'),\n",
       " Row(userId='18', firstname='Adriel', page='NextSong', level='paid', song='Pink Frost'),\n",
       " Row(userId='18', firstname='Adriel', page='NextSong', level='paid', song='A Whiter Shade Of Pale (Live @ Fillmore West)'),\n",
       " Row(userId='18', firstname='Adriel', page='NextSong', level='paid', song='I Believe I Can Fly'),\n",
       " Row(userId='18', firstname='Adriel', page='Add to Playlist', level='paid', song=None),\n",
       " Row(userId='18', firstname='Adriel', page='NextSong', level='paid', song=\"What's Up?\"),\n",
       " Row(userId='18', firstname='Adriel', page='About', level='paid', song=None),\n",
       " Row(userId='18', firstname='Adriel', page='NextSong', level='paid', song='Turn To Stone'),\n",
       " Row(userId='18', firstname='Adriel', page='NextSong', level='paid', song='Crack The Sky (Breakaway)'),\n",
       " Row(userId='18', firstname='Adriel', page='NextSong', level='paid', song='Erase / Rewind'),\n",
       " Row(userId='18', firstname='Adriel', page='NextSong', level='paid', song='Demon Days'),\n",
       " Row(userId='18', firstname='Adriel', page='NextSong', level='paid', song='More Than Words'),\n",
       " Row(userId='18', firstname='Adriel', page='NextSong', level='paid', song='Summertime [From Porgy and Bess] (Live 1993 Version)'),\n",
       " Row(userId='18', firstname='Adriel', page='NextSong', level='paid', song='La Promesse (Radio Version)'),\n",
       " Row(userId='18', firstname='Adriel', page='NextSong', level='paid', song='Alkime'),\n",
       " Row(userId='18', firstname='Adriel', page='NextSong', level='paid', song='Out Of The Shadows'),\n",
       " Row(userId='18', firstname='Adriel', page='NextSong', level='paid', song='Mere Do Nain'),\n",
       " Row(userId='18', firstname='Adriel', page='NextSong', level='paid', song='Canada'),\n",
       " Row(userId='18', firstname='Adriel', page='NextSong', level='paid', song='Breathe'),\n",
       " Row(userId='18', firstname='Adriel', page='NextSong', level='paid', song='Casiotone Pothole'),\n",
       " Row(userId='18', firstname='Adriel', page='NextSong', level='paid', song='We Need Each Other'),\n",
       " Row(userId='18', firstname='Adriel', page='NextSong', level='paid', song='Heat Miser'),\n",
       " Row(userId='18', firstname='Adriel', page='NextSong', level='paid', song='Beautiful Stranger'),\n",
       " Row(userId='18', firstname='Adriel', page='NextSong', level='paid', song='Da Baddest [Feat. Trey Songz] (Explicit Album Version)'),\n",
       " Row(userId='18', firstname='Adriel', page='NextSong', level='paid', song='Brain Damage'),\n",
       " Row(userId='18', firstname='Adriel', page='NextSong', level='paid', song='Over The Wall'),\n",
       " Row(userId='18', firstname='Adriel', page='NextSong', level='paid', song='Bobcat Tracks'),\n",
       " Row(userId='18', firstname='Adriel', page='NextSong', level='paid', song='All I Want'),\n",
       " Row(userId='18', firstname='Adriel', page='NextSong', level='paid', song='Dog Days Are Over (Radio Edit)'),\n",
       " Row(userId='18', firstname='Adriel', page='NextSong', level='paid', song='Prince Caspian'),\n",
       " Row(userId='18', firstname='Adriel', page='NextSong', level='paid', song='Mistica'),\n",
       " Row(userId='18', firstname='Adriel', page='NextSong', level='paid', song='Better in time'),\n",
       " Row(userId='18', firstname='Adriel', page='NextSong', level='paid', song=\"Miner's Night Out\"),\n",
       " Row(userId='18', firstname='Adriel', page='NextSong', level='paid', song='Maniac'),\n",
       " Row(userId='18', firstname='Adriel', page='NextSong', level='paid', song='Ghosts and Roses'),\n",
       " Row(userId='18', firstname='Adriel', page='NextSong', level='paid', song='Sehr kosmisch'),\n",
       " Row(userId='18', firstname='Adriel', page='NextSong', level='paid', song='Mockingbird'),\n",
       " Row(userId='18', firstname='Adriel', page='NextSong', level='paid', song='La teorÃ\\x83Â\\xada del caos'),\n",
       " Row(userId='18', firstname='Adriel', page='NextSong', level='paid', song='Human'),\n",
       " Row(userId='18', firstname='Adriel', page='NextSong', level='paid', song='Banned In D.C.'),\n",
       " Row(userId='18', firstname='Adriel', page='NextSong', level='paid', song='Forever'),\n",
       " Row(userId='18', firstname='Adriel', page='NextSong', level='paid', song='Butterflies and Hurricanes'),\n",
       " Row(userId='18', firstname='Adriel', page='NextSong', level='paid', song='Diamonds And Guns (Album Version)'),\n",
       " Row(userId='18', firstname='Adriel', page='NextSong', level='paid', song='My Isolation'),\n",
       " Row(userId='18', firstname='Adriel', page='NextSong', level='paid', song='Going Down In Flames'),\n",
       " Row(userId='18', firstname='Adriel', page='NextSong', level='paid', song='Ignorance (Album Version)'),\n",
       " Row(userId='18', firstname='Adriel', page='NextSong', level='paid', song='Dog Days Are Over (Radio Edit)'),\n",
       " Row(userId='18', firstname='Adriel', page='NextSong', level='paid', song='Hold Nothing Back'),\n",
       " Row(userId='18', firstname='Adriel', page='NextSong', level='paid', song=\"Call Back When I'm Honest\"),\n",
       " Row(userId='18', firstname='Adriel', page='NextSong', level='paid', song='Numb (Album Version)'),\n",
       " Row(userId='18', firstname='Adriel', page='NextSong', level='paid', song='The End'),\n",
       " Row(userId='18', firstname='Adriel', page='NextSong', level='paid', song=\"Mr. Highway's Thinking About The End\"),\n",
       " Row(userId='18', firstname='Adriel', page='NextSong', level='paid', song='Torment of the Metals'),\n",
       " Row(userId='18', firstname='Adriel', page='Logout', level='paid', song=None),\n",
       " Row(userId='18', firstname='Adriel', page='Home', level='paid', song=None),\n",
       " Row(userId='18', firstname='Adriel', page='Logout', level='paid', song=None),\n",
       " Row(userId='18', firstname='Adriel', page='Home', level='paid', song=None),\n",
       " Row(userId='18', firstname='Adriel', page='NextSong', level='paid', song='Digimortal (Album Version)'),\n",
       " Row(userId='18', firstname='Adriel', page='NextSong', level='paid', song='So It Goes'),\n",
       " Row(userId='18', firstname='Adriel', page='NextSong', level='paid', song='Caridad'),\n",
       " Row(userId='18', firstname='Adriel', page='NextSong', level='paid', song='The Bachelor and the Bride'),\n",
       " Row(userId='18', firstname='Adriel', page='NextSong', level='paid', song=\"You Know You're Right\"),\n",
       " Row(userId='18', firstname='Adriel', page='NextSong', level='paid', song='Frases Mudas'),\n",
       " Row(userId='18', firstname='Adriel', page='NextSong', level='paid', song='Blame It'),\n",
       " Row(userId='18', firstname='Adriel', page='NextSong', level='paid', song='Infected'),\n",
       " Row(userId='18', firstname='Adriel', page='NextSong', level='paid', song='The Tempest (album version)'),\n",
       " Row(userId='18', firstname='Adriel', page='NextSong', level='paid', song=\"Don't Be On With Her\"),\n",
       " Row(userId='18', firstname='Adriel', page='NextSong', level='paid', song='Canos'),\n",
       " Row(userId='18', firstname='Adriel', page='NextSong', level='paid', song='Beautiful Stranger'),\n",
       " Row(userId='18', firstname='Adriel', page='NextSong', level='paid', song=\"Gimme Some Lovin'\"),\n",
       " Row(userId='18', firstname='Adriel', page='NextSong', level='paid', song='Sweet Home Chicago'),\n",
       " Row(userId='18', firstname='Adriel', page='NextSong', level='paid', song='Mr. Soul'),\n",
       " Row(userId='18', firstname='Adriel', page='NextSong', level='paid', song='Dog Days Are Over (Radio Edit)'),\n",
       " Row(userId='18', firstname='Adriel', page='NextSong', level='paid', song='Lock & Chain'),\n",
       " Row(userId='18', firstname='Adriel', page='NextSong', level='paid', song='O Death'),\n",
       " Row(userId='18', firstname='Adriel', page='NextSong', level='paid', song='I Like Me'),\n",
       " Row(userId='18', firstname='Adriel', page='NextSong', level='paid', song='All We Ever Do Is Say Goodbye'),\n",
       " Row(userId='18', firstname='Adriel', page='Add to Playlist', level='paid', song=None),\n",
       " Row(userId='18', firstname='Adriel', page='NextSong', level='paid', song='2-1'),\n",
       " Row(userId='18', firstname='Adriel', page='Add to Playlist', level='paid', song=None),\n",
       " Row(userId='18', firstname='Adriel', page='NextSong', level='paid', song='Always On My Mind (Album Version)'),\n",
       " Row(userId='18', firstname='Adriel', page='NextSong', level='paid', song='Ses Monuments'),\n",
       " Row(userId='18', firstname='Adriel', page='NextSong', level='paid', song='I Stand Corrected (Album)'),\n",
       " Row(userId='18', firstname='Adriel', page='NextSong', level='paid', song='Halcyon'),\n",
       " Row(userId='18', firstname='Adriel', page='NextSong', level='paid', song=\"Cheers Darlin'\"),\n",
       " Row(userId='18', firstname='Adriel', page='Add Friend', level='paid', song=None),\n",
       " Row(userId='18', firstname='Adriel', page='NextSong', level='paid', song=\"I'm Missing Her\"),\n",
       " Row(userId='18', firstname='Adriel', page='Home', level='paid', song=None),\n",
       " Row(userId='18', firstname='Adriel', page='NextSong', level='paid', song='Thou Shalt Always Kill'),\n",
       " Row(userId='18', firstname='Adriel', page='NextSong', level='paid', song='Blue Eyes Crying in the Rain (Album Version)'),\n",
       " Row(userId='18', firstname='Adriel', page='NextSong', level='paid', song='What We Do (Explicit) (Feat. Memphis Bleek)'),\n",
       " Row(userId='18', firstname='Adriel', page='NextSong', level='paid', song='More Than Words'),\n",
       " Row(userId='18', firstname='Adriel', page='NextSong', level='paid', song='Dominoid (Panty Sniffer Mix)'),\n",
       " Row(userId='18', firstname='Adriel', page='NextSong', level='paid', song='Just Dance'),\n",
       " Row(userId='18', firstname='Adriel', page='NextSong', level='paid', song='Undo'),\n",
       " Row(userId='18', firstname='Adriel', page='NextSong', level='paid', song='Vanished'),\n",
       " Row(userId='18', firstname='Adriel', page='NextSong', level='paid', song='Revelry'),\n",
       " Row(userId='18', firstname='Adriel', page='NextSong', level='paid', song=\"Ghosts 'n' Stuff (Original Instrumental Mix)\"),\n",
       " Row(userId='18', firstname='Adriel', page='NextSong', level='paid', song='I Feel So Fine '),\n",
       " Row(userId='18', firstname='Adriel', page='NextSong', level='paid', song=\"It's My Own Fault\"),\n",
       " Row(userId='18', firstname='Adriel', page='NextSong', level='paid', song='December flow'),\n",
       " Row(userId='18', firstname='Adriel', page='NextSong', level='paid', song='Rhinestone Eyes'),\n",
       " Row(userId='18', firstname='Adriel', page='NextSong', level='paid', song='Make Love To Your Mind'),\n",
       " Row(userId='18', firstname='Adriel', page='NextSong', level='paid', song='Losing Touch'),\n",
       " Row(userId='18', firstname='Adriel', page='Add to Playlist', level='paid', song=None),\n",
       " Row(userId='18', firstname='Adriel', page='NextSong', level='paid', song='All Over You (2007 Digital Remaster)'),\n",
       " Row(userId='18', firstname='Adriel', page='NextSong', level='paid', song='Walking On The Moon'),\n",
       " Row(userId='18', firstname='Adriel', page='Add Friend', level='paid', song=None),\n",
       " Row(userId='18', firstname='Adriel', page='Add Friend', level='paid', song=None),\n",
       " Row(userId='18', firstname='Adriel', page='NextSong', level='paid', song=\"Muscle'n Flo\"),\n",
       " Row(userId='18', firstname='Adriel', page='NextSong', level='paid', song='Pursuit Of Happiness (nightmare)'),\n",
       " Row(userId='18', firstname='Adriel', page='NextSong', level='paid', song='If I'),\n",
       " Row(userId='18', firstname='Adriel', page='NextSong', level='paid', song='Sparks'),\n",
       " Row(userId='18', firstname='Adriel', page='NextSong', level='paid', song='Rain & Snow'),\n",
       " Row(userId='18', firstname='Adriel', page='NextSong', level='paid', song=\"Build God_ Then We'll Talk (Album Version)\"),\n",
       " Row(userId='18', firstname='Adriel', page='NextSong', level='paid', song='Drop The World'),\n",
       " Row(userId='18', firstname='Adriel', page='NextSong', level='paid', song='Transistor Radio'),\n",
       " Row(userId='18', firstname='Adriel', page='NextSong', level='paid', song='April And The Phantom'),\n",
       " Row(userId='18', firstname='Adriel', page='Thumbs Up', level='paid', song=None),\n",
       " Row(userId='18', firstname='Adriel', page='NextSong', level='paid', song='May The Words Of My Mouth'),\n",
       " Row(userId='18', firstname='Adriel', page='NextSong', level='paid', song='PROTECTED WORLD'),\n",
       " Row(userId='18', firstname='Adriel', page='NextSong', level='paid', song='Exit Music (For A Film)'),\n",
       " Row(userId='18', firstname='Adriel', page='NextSong', level='paid', song='Love Missile F1-11'),\n",
       " Row(userId='18', firstname='Adriel', page='NextSong', level='paid', song=\"Floatin' Safari\"),\n",
       " Row(userId='18', firstname='Adriel', page='NextSong', level='paid', song='Carmensita'),\n",
       " Row(userId='18', firstname='Adriel', page='NextSong', level='paid', song='The Truth'),\n",
       " Row(userId='18', firstname='Adriel', page='NextSong', level='paid', song='An Unsavoury Urge'),\n",
       " Row(userId='18', firstname='Adriel', page='NextSong', level='paid', song='Hey There Delilah'),\n",
       " Row(userId='18', firstname='Adriel', page='NextSong', level='paid', song='My Spine (Is The Bass Line)'),\n",
       " Row(userId='18', firstname='Adriel', page='NextSong', level='paid', song='Selkies: The Endless Obsession (Album Version)'),\n",
       " Row(userId='18', firstname='Adriel', page='NextSong', level='paid', song='Bring Me To Life'),\n",
       " Row(userId='18', firstname='Adriel', page='NextSong', level='paid', song='Everybody Know Me (Amended Album Version)'),\n",
       " Row(userId='18', firstname='Adriel', page='Home', level='paid', song=None),\n",
       " Row(userId='18', firstname='Adriel', page='NextSong', level='paid', song='Only The Lonely (Know The Way I Feel)'),\n",
       " Row(userId='18', firstname='Adriel', page='NextSong', level='paid', song='Superfly (LP Version)'),\n",
       " Row(userId='18', firstname='Adriel', page='NextSong', level='paid', song='Can We Fix It ?'),\n",
       " Row(userId='18', firstname='Adriel', page='Thumbs Up', level='paid', song=None),\n",
       " Row(userId='18', firstname='Adriel', page='NextSong', level='paid', song='Explosive'),\n",
       " Row(userId='18', firstname='Adriel', page='NextSong', level='paid', song='Epilogue'),\n",
       " Row(userId='18', firstname='Adriel', page='NextSong', level='paid', song='Deathly'),\n",
       " Row(userId='18', firstname='Adriel', page='NextSong', level='paid', song='Found Home'),\n",
       " Row(userId='18', firstname='Adriel', page='NextSong', level='paid', song='Free Love'),\n",
       " Row(userId='18', firstname='Adriel', page='NextSong', level='paid', song='This Close'),\n",
       " Row(userId='18', firstname='Adriel', page='Downgrade', level='paid', song=None),\n",
       " Row(userId='18', firstname='Adriel', page='NextSong', level='paid', song='How You Like Me Now?'),\n",
       " Row(userId='18', firstname='Adriel', page='Add Friend', level='paid', song=None),\n",
       " Row(userId='18', firstname='Adriel', page='NextSong', level='paid', song='Absolute Affirmation'),\n",
       " Row(userId='18', firstname='Adriel', page='NextSong', level='paid', song='Revelry'),\n",
       " Row(userId='18', firstname='Adriel', page='NextSong', level='paid', song='Everytime'),\n",
       " Row(userId='18', firstname='Adriel', page='NextSong', level='paid', song='Jailhouse Rock'),\n",
       " Row(userId='18', firstname='Adriel', page='NextSong', level='paid', song='Therapie In De Nachtlucht'),\n",
       " Row(userId='18', firstname='Adriel', page='NextSong', level='paid', song='Interstate 8'),\n",
       " Row(userId='18', firstname='Adriel', page='Thumbs Up', level='paid', song=None),\n",
       " Row(userId='18', firstname='Adriel', page='NextSong', level='paid', song=\"You've Got The Love\"),\n",
       " Row(userId='18', firstname='Adriel', page='NextSong', level='paid', song='Changes'),\n",
       " Row(userId='18', firstname='Adriel', page='NextSong', level='paid', song='Quiero'),\n",
       " Row(userId='18', firstname='Adriel', page='NextSong', level='paid', song='Once In A Lifetime'),\n",
       " Row(userId='18', firstname='Adriel', page='Thumbs Up', level='paid', song=None),\n",
       " Row(userId='18', firstname='Adriel', page='NextSong', level='paid', song='SinceritÃ\\x83Â© Et Jalousie'),\n",
       " Row(userId='18', firstname='Adriel', page='Add to Playlist', level='paid', song=None),\n",
       " Row(userId='18', firstname='Adriel', page='NextSong', level='paid', song=\"Runnin'\"),\n",
       " Row(userId='18', firstname='Adriel', page='NextSong', level='paid', song='Catch You Baby (Steve Pitron & Max Sanna Radio Edit)'),\n",
       " Row(userId='18', firstname='Adriel', page='NextSong', level='paid', song='People Get Ready'),\n",
       " Row(userId='18', firstname='Adriel', page='Help', level='paid', song=None),\n",
       " Row(userId='18', firstname='Adriel', page='NextSong', level='paid', song='Ddiamondd'),\n",
       " Row(userId='18', firstname='Adriel', page='Home', level='paid', song=None),\n",
       " Row(userId='18', firstname='Adriel', page='NextSong', level='paid', song='Blue Sky (Album)'),\n",
       " Row(userId='18', firstname='Adriel', page='NextSong', level='paid', song='Billionaire [feat. Bruno Mars]  (Explicit Album Version)'),\n",
       " Row(userId='18', firstname='Adriel', page='NextSong', level='paid', song=\"Is It The Skin I'm In?\"),\n",
       " Row(userId='18', firstname='Adriel', page='NextSong', level='paid', song='The Mountains Win Again'),\n",
       " Row(userId='18', firstname='Adriel', page='NextSong', level='paid', song='I Want A Little Sugar In My Bowl'),\n",
       " Row(userId='18', firstname='Adriel', page='NextSong', level='paid', song='Ona Kasuita'),\n",
       " Row(userId='18', firstname='Adriel', page='NextSong', level='paid', song='I Speak Because I Can'),\n",
       " Row(userId='18', firstname='Adriel', page='NextSong', level='paid', song='Bulldozer (Hellalive) (Album Version)'),\n",
       " Row(userId='18', firstname='Adriel', page='Thumbs Up', level='paid', song=None),\n",
       " Row(userId='18', firstname='Adriel', page='NextSong', level='paid', song='Dressed For Friend Requests (Album Version)'),\n",
       " Row(userId='18', firstname='Adriel', page='NextSong', level='paid', song='Congratulations'),\n",
       " Row(userId='18', firstname='Adriel', page='NextSong', level='paid', song='Dogs Are Everywhere'),\n",
       " Row(userId='18', firstname='Adriel', page='NextSong', level='paid', song='Bukowski'),\n",
       " Row(userId='18', firstname='Adriel', page='NextSong', level='paid', song='Good Life'),\n",
       " Row(userId='18', firstname='Adriel', page='NextSong', level='paid', song='Sand & Ice (Bonus Track)'),\n",
       " Row(userId='18', firstname='Adriel', page='NextSong', level='paid', song=\"It Don't Have To Change\"),\n",
       " Row(userId='18', firstname='Adriel', page='NextSong', level='paid', song='I Can Feel A Hot One'),\n",
       " Row(userId='18', firstname='Adriel', page='NextSong', level='paid', song='Home'),\n",
       " Row(userId='18', firstname='Adriel', page='NextSong', level='paid', song='Black & White'),\n",
       " Row(userId='18', firstname='Adriel', page='NextSong', level='paid', song='The Hardest Button To Button'),\n",
       " Row(userId='18', firstname='Adriel', page='Home', level='paid', song=None),\n",
       " Row(userId='18', firstname='Adriel', page='NextSong', level='paid', song=\"Tell You Something (Nana's Reprise)\"),\n",
       " Row(userId='18', firstname='Adriel', page='NextSong', level='paid', song='Against The Peruvian Monster'),\n",
       " Row(userId='18', firstname='Adriel', page='NextSong', level='paid', song='Costume Party'),\n",
       " Row(userId='18', firstname='Adriel', page='Thumbs Up', level='paid', song=None),\n",
       " Row(userId='18', firstname='Adriel', page='NextSong', level='paid', song='0010'),\n",
       " Row(userId='18', firstname='Adriel', page='Add to Playlist', level='paid', song=None),\n",
       " Row(userId='18', firstname='Adriel', page='NextSong', level='paid', song='Beautiful Stranger'),\n",
       " Row(userId='18', firstname='Adriel', page='NextSong', level='paid', song='Bent (LP Version)'),\n",
       " Row(userId='18', firstname='Adriel', page='NextSong', level='paid', song='Purple Weed'),\n",
       " Row(userId='18', firstname='Adriel', page='NextSong', level='paid', song='Womanopoly'),\n",
       " Row(userId='18', firstname='Adriel', page='NextSong', level='paid', song='Beba'),\n",
       " Row(userId='18', firstname='Adriel', page='NextSong', level='paid', song='Run Me Down'),\n",
       " Row(userId='18', firstname='Adriel', page='NextSong', level='paid', song='Tanz'),\n",
       " Row(userId='18', firstname='Adriel', page='NextSong', level='paid', song='Wake For Young Souls'),\n",
       " Row(userId='18', firstname='Adriel', page='NextSong', level='paid', song='I Am Not a Robot'),\n",
       " Row(userId='18', firstname='Adriel', page='NextSong', level='paid', song=\"Prostitution Is The World's Oldest Profession [and I_ Dear Madame_ Am A Professional] (Album Version)\"),\n",
       " Row(userId='18', firstname='Adriel', page='NextSong', level='paid', song='Real World'),\n",
       " Row(userId='18', firstname='Adriel', page='Settings', level='paid', song=None),\n",
       " Row(userId='18', firstname='Adriel', page='Save Settings', level='paid', song=None),\n",
       " Row(userId='18', firstname='Adriel', page='Home', level='paid', song=None),\n",
       " Row(userId='18', firstname='Adriel', page='Add Friend', level='paid', song=None),\n",
       " Row(userId='18', firstname='Adriel', page='NextSong', level='paid', song='The Golden Day Is Dying'),\n",
       " Row(userId='18', firstname='Adriel', page='NextSong', level='paid', song='Do You Believe'),\n",
       " Row(userId='18', firstname='Adriel', page='NextSong', level='paid', song='Baby Boy [feat. Beyonce]'),\n",
       " Row(userId='18', firstname='Adriel', page='NextSong', level='paid', song='Bad Best Friend'),\n",
       " Row(userId='18', firstname='Adriel', page='NextSong', level='paid', song='Reppin Da Soufside (w/Flatline) (Chopped & Screwed Version)'),\n",
       " Row(userId='18', firstname='Adriel', page='NextSong', level='paid', song='The Hudson'),\n",
       " Row(userId='18', firstname='Adriel', page='Add to Playlist', level='paid', song=None),\n",
       " Row(userId='18', firstname='Adriel', page='NextSong', level='paid', song='Where The Birds Always Sing'),\n",
       " Row(userId='18', firstname='Adriel', page='NextSong', level='paid', song='Some Girls Are Bigger Than Others'),\n",
       " Row(userId='18', firstname='Adriel', page='NextSong', level='paid', song='I Stand Alone'),\n",
       " Row(userId='18', firstname='Adriel', page='NextSong', level='paid', song='Hunters Of The Sky (Album Version)'),\n",
       " Row(userId='18', firstname='Adriel', page='NextSong', level='paid', song='Te ExtraÃ\\x83Â±o'),\n",
       " Row(userId='18', firstname='Adriel', page='NextSong', level='paid', song='Sleepyhead'),\n",
       " Row(userId='18', firstname='Adriel', page='NextSong', level='paid', song='Au fur et Ã\\x83Â\\xa0 mesure (live)'),\n",
       " Row(userId='18', firstname='Adriel', page='NextSong', level='paid', song='Hold Me_ Thrill Me_ Kiss Me_ Kill Me'),\n",
       " Row(userId='18', firstname='Adriel', page='Thumbs Down', level='paid', song=None),\n",
       " Row(userId='18', firstname='Adriel', page='NextSong', level='paid', song='Face To Face'),\n",
       " Row(userId='18', firstname='Adriel', page='NextSong', level='paid', song=\"When I Get Home You're So Dead (New Version) (Album)\"),\n",
       " Row(userId='18', firstname='Adriel', page='NextSong', level='paid', song='Shine Shine'),\n",
       " Row(userId='18', firstname='Adriel', page='NextSong', level='paid', song=\"I Don't Need A Man\"),\n",
       " Row(userId='18', firstname='Adriel', page='NextSong', level='paid', song='Satta Amasa Gana'),\n",
       " Row(userId='18', firstname='Adriel', page='NextSong', level='paid', song='House Of Broken Love'),\n",
       " Row(userId='18', firstname='Adriel', page='NextSong', level='paid', song='Crack A Bottle'),\n",
       " Row(userId='18', firstname='Adriel', page='NextSong', level='paid', song='Corynorhinus'),\n",
       " Row(userId='18', firstname='Adriel', page='NextSong', level='paid', song='Finished Symphony'),\n",
       " Row(userId='18', firstname='Adriel', page='Thumbs Up', level='paid', song=None),\n",
       " Row(userId='18', firstname='Adriel', page='NextSong', level='paid', song='Lets Get Lost'),\n",
       " Row(userId='18', firstname='Adriel', page='Settings', level='paid', song=None),\n",
       " Row(userId='18', firstname='Adriel', page='NextSong', level='paid', song='Murderers (Album Version)'),\n",
       " Row(userId='18', firstname='Adriel', page='NextSong', level='paid', song='All I Ever Wanted'),\n",
       " Row(userId='18', firstname='Adriel', page='NextSong', level='paid', song='My All'),\n",
       " Row(userId='18', firstname='Adriel', page='NextSong', level='paid', song='Naive'),\n",
       " Row(userId='18', firstname='Adriel', page='NextSong', level='paid', song='Land Of Confusion'),\n",
       " Row(userId='18', firstname='Adriel', page='NextSong', level='paid', song='Drunk On Love'),\n",
       " Row(userId='18', firstname='Adriel', page='NextSong', level='paid', song='Tighten Up'),\n",
       " Row(userId='18', firstname='Adriel', page='NextSong', level='paid', song='Que Triste Es Decir Adios'),\n",
       " Row(userId='18', firstname='Adriel', page='NextSong', level='paid', song=\"At Mourning's Twilight\"),\n",
       " Row(userId='18', firstname='Adriel', page='Downgrade', level='paid', song=None),\n",
       " Row(userId='18', firstname='Adriel', page='Logout', level='paid', song=None),\n",
       " Row(userId='18', firstname='Adriel', page='Home', level='paid', song=None),\n",
       " Row(userId='18', firstname='Adriel', page='NextSong', level='paid', song='Superballs'),\n",
       " Row(userId='18', firstname='Adriel', page='NextSong', level='paid', song=\"Ain't Misbehavin\"),\n",
       " Row(userId='18', firstname='Adriel', page='NextSong', level='paid', song='This War Is Ours (The Guillotine II)'),\n",
       " Row(userId='18', firstname='Adriel', page='NextSong', level='paid', song='Sweet Emotion'),\n",
       " Row(userId='18', firstname='Adriel', page='NextSong', level='paid', song='We Deal In Dreams'),\n",
       " Row(userId='18', firstname='Adriel', page='NextSong', level='paid', song='Corynorhinus'),\n",
       " Row(userId='18', firstname='Adriel', page='NextSong', level='paid', song='Simarik'),\n",
       " Row(userId='18', firstname='Adriel', page='NextSong', level='paid', song='Hush Hush'),\n",
       " Row(userId='18', firstname='Adriel', page='NextSong', level='paid', song='Cathar Rhythm'),\n",
       " Row(userId='18', firstname='Adriel', page='Home', level='paid', song=None),\n",
       " Row(userId='18', firstname='Adriel', page='NextSong', level='paid', song='Stars'),\n",
       " Row(userId='18', firstname='Adriel', page='NextSong', level='paid', song=\"Walkin' Blues\"),\n",
       " Row(userId='18', firstname='Adriel', page='NextSong', level='paid', song='Kalidafun Parts 1&2'),\n",
       " Row(userId='18', firstname='Adriel', page='NextSong', level='paid', song='The Fragile'),\n",
       " Row(userId='18', firstname='Adriel', page='NextSong', level='paid', song=\"You're The One\"),\n",
       " Row(userId='18', firstname='Adriel', page='Add Friend', level='paid', song=None),\n",
       " Row(userId='18', firstname='Adriel', page='NextSong', level='paid', song='Next Girl'),\n",
       " Row(userId='18', firstname='Adriel', page='NextSong', level='paid', song='You Give Love A Bad Name'),\n",
       " Row(userId='18', firstname='Adriel', page='NextSong', level='paid', song='Here I Go Again'),\n",
       " Row(userId='18', firstname='Adriel', page='Thumbs Up', level='paid', song=None),\n",
       " Row(userId='18', firstname='Adriel', page='NextSong', level='paid', song=\"True Men Don't Kill Coyotes (24-Bit Digitally Remastered 02)\"),\n",
       " Row(userId='18', firstname='Adriel', page='NextSong', level='paid', song='Killboy Powerhead'),\n",
       " Row(userId='18', firstname='Adriel', page='NextSong', level='paid', song='Calico'),\n",
       " Row(userId='18', firstname='Adriel', page='NextSong', level='paid', song='Intermission 1'),\n",
       " Row(userId='18', firstname='Adriel', page='NextSong', level='paid', song='Ms. Jackson'),\n",
       " Row(userId='18', firstname='Adriel', page='NextSong', level='paid', song='Picture'),\n",
       " Row(userId='18', firstname='Adriel', page='NextSong', level='paid', song='The Fight Song'),\n",
       " Row(userId='18', firstname='Adriel', page='NextSong', level='paid', song='Take Me As I Am'),\n",
       " Row(userId='18', firstname='Adriel', page='NextSong', level='paid', song='Reclaimer'),\n",
       " Row(userId='18', firstname='Adriel', page='NextSong', level='paid', song='Playground Love'),\n",
       " Row(userId='18', firstname='Adriel', page='NextSong', level='paid', song='Blue In Green'),\n",
       " Row(userId='18', firstname='Adriel', page='NextSong', level='paid', song='OMG'),\n",
       " Row(userId='18', firstname='Adriel', page='NextSong', level='paid', song='Far Away (Album Version)'),\n",
       " Row(userId='18', firstname='Adriel', page='NextSong', level='paid', song='Liar'),\n",
       " Row(userId='18', firstname='Adriel', page='NextSong', level='paid', song='Blood On Your Hands'),\n",
       " Row(userId='18', firstname='Adriel', page='NextSong', level='paid', song='Pas bien'),\n",
       " Row(userId='18', firstname='Adriel', page='NextSong', level='paid', song='Nasty Girl (Featuring Diddy_ Nelly_ Jagged Edge and Avery Storm) (Explicit Album Version)'),\n",
       " Row(userId='18', firstname='Adriel', page='NextSong', level='paid', song='Someday'),\n",
       " Row(userId='18', firstname='Adriel', page='Downgrade', level='paid', song=None),\n",
       " Row(userId='18', firstname='Adriel', page='Cancel', level='paid', song=None),\n",
       " Row(userId='18', firstname='Adriel', page='Cancellation Confirmation', level='paid', song=None)]"
      ]
     },
     "execution_count": 10,
     "metadata": {},
     "output_type": "execute_result"
    }
   ],
   "source": [
    "df.select([\"userId\", \"firstname\", \"page\", \"level\", \"song\"]).where(df.userId == \"18\").collect()"
   ]
  },
  {
   "cell_type": "code",
   "execution_count": 9,
   "metadata": {},
   "outputs": [],
   "source": [
    "flag_churn_event = udf(lambda x: 1 if x == \"Cancellation Confirmation\" else 0, IntegerType())"
   ]
  },
  {
   "cell_type": "code",
   "execution_count": 10,
   "metadata": {},
   "outputs": [],
   "source": [
    "df_valid = df_valid.withColumn(\"churn\", flag_churn_event(\"page\"))"
   ]
  },
  {
   "cell_type": "code",
   "execution_count": 11,
   "metadata": {},
   "outputs": [],
   "source": [
    "#create spark sql to update all churned user to be 1 for churn value\n",
    "df_valid.createGlobalTempView(\"churned_user_list\")\n",
    "#spark.sql(\"select c1.*,case when c2.userId is not null then 1 else 0 end as churn_new from global_temp.churned_user_list as c1 left join (select userId from global_temp.churned_user_list where churn = 1) as c2 on c1.userId = c2.userId\").show(1)"
   ]
  },
  {
   "cell_type": "code",
   "execution_count": 12,
   "metadata": {},
   "outputs": [
    {
     "name": "stdout",
     "output_type": "stream",
     "text": [
      "+--------------------+---------+---------+------+-------------+---------+---------+-----+--------------------+------+--------+-------------+---------+--------------------+------+-------------+--------------------+------+-----+---------+\n",
      "|              artist|     auth|firstName|gender|itemInSession| lastName|   length|level|            location|method|    page| registration|sessionId|                song|status|           ts|           userAgent|userId|churn|churn_new|\n",
      "+--------------------+---------+---------+------+-------------+---------+---------+-----+--------------------+------+--------+-------------+---------+--------------------+------+-------------+--------------------+------+-----+---------+\n",
      "|Sleeping With Sirens|Logged In| Darianna|     F|            0|Carpenter|202.97098| free|Bridgeport-Stamfo...|   PUT|NextSong|1538016340000|       31|Captain Tyin Knot...|   200|1539003534000|\"Mozilla/5.0 (iPh...|100010|    0|        0|\n",
      "+--------------------+---------+---------+------+-------------+---------+---------+-----+--------------------+------+--------+-------------+---------+--------------------+------+-------------+--------------------+------+-----+---------+\n",
      "only showing top 1 row\n",
      "\n"
     ]
    }
   ],
   "source": [
    "# Store the output in another data frame\n",
    "df_valid_new = spark.sql(\"select c1.*,case when c2.userId is not null then 1 else 0 end as churn_new from global_temp.churned_user_list as c1 left join (select userId from global_temp.churned_user_list where churn = 1) as c2 on c1.userId = c2.userId\")\n",
    "df_valid_new.show(1)"
   ]
  },
  {
   "cell_type": "code",
   "execution_count": 13,
   "metadata": {},
   "outputs": [],
   "source": [
    "df_valid_new=df_valid_new.drop('churn')\n",
    "df_valid_new = df_valid_new.withColumnRenamed('churn_new','churn')"
   ]
  },
  {
   "cell_type": "code",
   "execution_count": 11,
   "metadata": {},
   "outputs": [
    {
     "data": {
      "text/plain": [
       "[Row(artist='Sleeping With Sirens', auth='Logged In', firstName='Darianna', gender='F', itemInSession=0, lastName='Carpenter', length=202.97098, level='free', location='Bridgeport-Stamford-Norwalk, CT', method='PUT', page='NextSong', registration=1538016340000, sessionId=31, song='Captain Tyin Knots VS Mr Walkway (No Way)', status=200, ts=1539003534000, userAgent='\"Mozilla/5.0 (iPhone; CPU iPhone OS 7_1_2 like Mac OS X) AppleWebKit/537.51.2 (KHTML, like Gecko) Version/7.0 Mobile/11D257 Safari/9537.53\"', userId='100010', churn=0),\n",
       " Row(artist='Francesca Battistelli', auth='Logged In', firstName='Darianna', gender='F', itemInSession=1, lastName='Carpenter', length=196.54485, level='free', location='Bridgeport-Stamford-Norwalk, CT', method='PUT', page='NextSong', registration=1538016340000, sessionId=31, song='Beautiful_ Beautiful (Album)', status=200, ts=1539003736000, userAgent='\"Mozilla/5.0 (iPhone; CPU iPhone OS 7_1_2 like Mac OS X) AppleWebKit/537.51.2 (KHTML, like Gecko) Version/7.0 Mobile/11D257 Safari/9537.53\"', userId='100010', churn=0),\n",
       " Row(artist='Brutha', auth='Logged In', firstName='Darianna', gender='F', itemInSession=2, lastName='Carpenter', length=263.13098, level='free', location='Bridgeport-Stamford-Norwalk, CT', method='PUT', page='NextSong', registration=1538016340000, sessionId=31, song=\"She's Gone\", status=200, ts=1539003932000, userAgent='\"Mozilla/5.0 (iPhone; CPU iPhone OS 7_1_2 like Mac OS X) AppleWebKit/537.51.2 (KHTML, like Gecko) Version/7.0 Mobile/11D257 Safari/9537.53\"', userId='100010', churn=0),\n",
       " Row(artist=None, auth='Logged In', firstName='Darianna', gender='F', itemInSession=3, lastName='Carpenter', length=None, level='free', location='Bridgeport-Stamford-Norwalk, CT', method='PUT', page='Thumbs Up', registration=1538016340000, sessionId=31, song=None, status=307, ts=1539003933000, userAgent='\"Mozilla/5.0 (iPhone; CPU iPhone OS 7_1_2 like Mac OS X) AppleWebKit/537.51.2 (KHTML, like Gecko) Version/7.0 Mobile/11D257 Safari/9537.53\"', userId='100010', churn=0),\n",
       " Row(artist='Josh Ritter', auth='Logged In', firstName='Darianna', gender='F', itemInSession=4, lastName='Carpenter', length=316.23791, level='free', location='Bridgeport-Stamford-Norwalk, CT', method='PUT', page='NextSong', registration=1538016340000, sessionId=31, song='Folk Bloodbath', status=200, ts=1539004195000, userAgent='\"Mozilla/5.0 (iPhone; CPU iPhone OS 7_1_2 like Mac OS X) AppleWebKit/537.51.2 (KHTML, like Gecko) Version/7.0 Mobile/11D257 Safari/9537.53\"', userId='100010', churn=0)]"
      ]
     },
     "execution_count": 11,
     "metadata": {},
     "output_type": "execute_result"
    }
   ],
   "source": [
    "df_valid_new.take(5)"
   ]
  },
  {
   "cell_type": "code",
   "execution_count": 13,
   "metadata": {},
   "outputs": [
    {
     "data": {
      "text/plain": [
       "225"
      ]
     },
     "execution_count": 13,
     "metadata": {},
     "output_type": "execute_result"
    }
   ],
   "source": [
    "df_valid_new.select(\"userId\").distinct().count()"
   ]
  },
  {
   "cell_type": "code",
   "execution_count": 14,
   "metadata": {},
   "outputs": [
    {
     "name": "stdout",
     "output_type": "stream",
     "text": [
      "+-----+-----+\n",
      "|churn|Users|\n",
      "+-----+-----+\n",
      "|    1|   52|\n",
      "|    0|  173|\n",
      "+-----+-----+\n",
      "\n"
     ]
    },
    {
     "data": {
      "image/png": "[encoded data removed]",
      "text/plain": [
       "<matplotlib.figure.Figure at 0x7f683482bda0>"
      ]
     },
     "metadata": {
      "needs_background": "light"
     },
     "output_type": "display_data"
    }
   ],
   "source": [
    "#Distribution of users by Churn Type\n",
    "churn_counts = df_valid_new.groupBy(\"churn\").agg(countDistinct(\"userId\").alias(\"Users\"))\n",
    "churn_counts.show()\n",
    "\n",
    "#sns.set(style=\"whitegrid\")\n",
    "plt.figure(figsize=(10, 6))\n",
    "plt.title('Distribution of Users by churn Type',fontsize= 16)\n",
    "ax = sns.barplot(y=\"Users\",x=\"churn\", data=churn_counts.toPandas())"
   ]
  },
  {
   "cell_type": "code",
   "execution_count": 58,
   "metadata": {},
   "outputs": [
    {
     "name": "stdout",
     "output_type": "stream",
     "text": [
      "+------+-----+\n",
      "|gender|Users|\n",
      "+------+-----+\n",
      "|     F|  104|\n",
      "|     M|  121|\n",
      "+------+-----+\n",
      "\n"
     ]
    },
    {
     "data": {
      "image/png": "[encoded data removed]",
      "text/plain": [
       "<matplotlib.figure.Figure at 0x7fe505da63c8>"
      ]
     },
     "metadata": {
      "needs_background": "light"
     },
     "output_type": "display_data"
    }
   ],
   "source": [
    "#Distribution of users by gender\n",
    "gender_counts = df_valid_new.groupBy(\"gender\").agg(countDistinct(\"userId\").alias(\"Users\"))\n",
    "gender_counts.show()\n",
    "\n",
    "#sns.set(style=\"whitegrid\")\n",
    "plt.figure(figsize=(10, 6))\n",
    "plt.title('Distribution of Users by gender',fontsize= 16)\n",
    "ax = sns.barplot(y=\"Users\", x=\"gender\", data=gender_counts.toPandas())"
   ]
  },
  {
   "cell_type": "code",
   "execution_count": 59,
   "metadata": {},
   "outputs": [
    {
     "name": "stdout",
     "output_type": "stream",
     "text": [
      "+-----+-----+\n",
      "|level|Users|\n",
      "+-----+-----+\n",
      "| free|  195|\n",
      "| paid|  165|\n",
      "+-----+-----+\n",
      "\n"
     ]
    },
    {
     "data": {
      "image/png": "[encoded data removed]",
      "text/plain": [
       "<matplotlib.figure.Figure at 0x7fe508b755f8>"
      ]
     },
     "metadata": {
      "needs_background": "light"
     },
     "output_type": "display_data"
    }
   ],
   "source": [
    "#Distribution of users by level\n",
    "gender_counts = df_valid_new.groupBy(\"level\").agg(countDistinct(\"userId\").alias(\"Users\"))\n",
    "gender_counts.show()\n",
    "\n",
    "#sns.set(style=\"whitegrid\")\n",
    "plt.figure(figsize=(10, 6))\n",
    "plt.title('Distribution of Users by level',fontsize= 16)\n",
    "ax = sns.barplot(y=\"Users\", x=\"level\", data=gender_counts.toPandas())"
   ]
  },
  {
   "cell_type": "code",
   "execution_count": 60,
   "metadata": {},
   "outputs": [
    {
     "data": {
      "text/plain": [
       "Text(0,0.5,'Users')"
      ]
     },
     "execution_count": 60,
     "metadata": {},
     "output_type": "execute_result"
    },
    {
     "data": {
      "image/png": "[encoded data removed]",
      "text/plain": [
       "<matplotlib.figure.Figure at 0x7fe51ece4be0>"
      ]
     },
     "metadata": {
      "needs_background": "light"
     },
     "output_type": "display_data"
    }
   ],
   "source": [
    "#Distribution of users by location\n",
    "location_counts = df_valid_new.groupBy(\"location\").agg(countDistinct(\"userId\").alias(\"Users\"))\\\n",
    "                .sort(col(\"Users\").desc())\n",
    "\n",
    "#sns.set(style=\"whitegrid\")\n",
    "plt.figure(figsize=(30, 15))\n",
    "plt.title('Distribution of Users by location',fontsize= 20)\n",
    "ax = sns.barplot(y=\"Users\", x=\"location\", data=location_counts.toPandas())\n",
    "ax.set_xlabel(\"State\",fontsize=20)\n",
    "ax.set_ylabel(\"Users\",fontsize=20)"
   ]
  },
  {
   "cell_type": "code",
   "execution_count": 61,
   "metadata": {},
   "outputs": [
    {
     "name": "stdout",
     "output_type": "stream",
     "text": [
      "+-----+------+-----+-----+------------------+\n",
      "|Churn|gender|Users|total|           Percent|\n",
      "+-----+------+-----+-----+------------------+\n",
      "|    1|     F|   20|  104| 19.23076923076923|\n",
      "|    0|     F|   84|  104| 80.76923076923077|\n",
      "|    0|     M|   89|  121| 73.55371900826447|\n",
      "|    1|     M|   32|  121|26.446280991735538|\n",
      "+-----+------+-----+-----+------------------+\n",
      "\n"
     ]
    },
    {
     "data": {
      "image/png": "[encoded data removed]",
      "text/plain": [
       "<matplotlib.figure.Figure at 0x7fe513bc4080>"
      ]
     },
     "metadata": {},
     "output_type": "display_data"
    }
   ],
   "source": [
    "# Distribution of Users by Churn and Gender\n",
    "churn_gender_counts = df_valid_new.groupBy([\"Churn\",\"gender\"]).agg(countDistinct(\"userId\").alias(\"Users\"))\\\n",
    "                      .withColumn('total', F.sum('Users').over(Window.partitionBy('Gender')))\\\n",
    "                      .withColumn('Percent', F.col('Users')*100/F.col('total'))\n",
    "\n",
    "churn_gender_counts.show()\n",
    "\n",
    "sns.set_style(\"white\")\n",
    "plt.figure(figsize=(16, 6))\n",
    "#sns.set_palette(\"Set1\",n_colors=8, desat=.5)\n",
    "sns.set_palette('muted')\n",
    "plt.title('Distribution of Users by churn and gender',fontsize= 20)\n",
    "ax = sns.barplot(x=\"Percent\", y=\"gender\", hue=\"Churn\", data=churn_gender_counts.toPandas(),capsize=.2)"
   ]
  },
  {
   "cell_type": "code",
   "execution_count": 62,
   "metadata": {},
   "outputs": [
    {
     "name": "stdout",
     "output_type": "stream",
     "text": [
      "+-----+-----+-----+-----+------------------+\n",
      "|Churn|level|Users|total|           Percent|\n",
      "+-----+-----+-----+-----+------------------+\n",
      "|    0| free|  149|  195| 76.41025641025641|\n",
      "|    1| free|   46|  195| 23.58974358974359|\n",
      "|    0| paid|  129|  165| 78.18181818181819|\n",
      "|    1| paid|   36|  165|21.818181818181817|\n",
      "+-----+-----+-----+-----+------------------+\n",
      "\n"
     ]
    },
    {
     "data": {
      "image/png": "[encoded data removed]",
      "text/plain": [
       "<matplotlib.figure.Figure at 0x7fe51023fbe0>"
      ]
     },
     "metadata": {},
     "output_type": "display_data"
    }
   ],
   "source": [
    "# Distribution of Users by Churn and level\n",
    "churn_level_counts = df_valid_new.groupBy([\"Churn\",\"level\"]).agg(countDistinct(\"userId\").alias(\"Users\"))\\\n",
    "                      .withColumn('total', F.sum('Users').over(Window.partitionBy('level')))\\\n",
    "                      .withColumn('Percent', F.col('Users')*100/F.col('total'))\n",
    "\n",
    "churn_level_counts.show()\n",
    "\n",
    "sns.set_style(\"white\")\n",
    "plt.figure(figsize=(16, 6))\n",
    "#sns.set_palette(\"Set1\",n_colors=8, desat=.5)\n",
    "sns.set_palette('muted')\n",
    "plt.title('Distribution of Users by churn and level',fontsize= 20)\n",
    "ax = sns.barplot(x=\"Percent\", y=\"level\", hue=\"Churn\", data=churn_level_counts.toPandas(),capsize=.2)"
   ]
  },
  {
   "cell_type": "code",
   "execution_count": 14,
   "metadata": {},
   "outputs": [],
   "source": [
    "browser = udf(lambda x : get_browser(x))\n",
    "df_valid_new = df_valid_new.withColumn('browser',browser(df.userAgent))\n",
    "\n",
    "os = udf(lambda x : get_os(x))\n",
    "df_valid_new = df_valid_new.withColumn('os',os(df.userAgent))"
   ]
  },
  {
   "cell_type": "code",
   "execution_count": 15,
   "metadata": {},
   "outputs": [
    {
     "name": "stdout",
     "output_type": "stream",
     "text": [
      "+--------------------+---------+---------+------+-------------+---------+---------+-----+--------------------+------+--------+-------------+---------+--------------------+------+-------------+--------------------+------+-----+-------+------+\n",
      "|              artist|     auth|firstName|gender|itemInSession| lastName|   length|level|            location|method|    page| registration|sessionId|                song|status|           ts|           userAgent|userId|churn|browser|    os|\n",
      "+--------------------+---------+---------+------+-------------+---------+---------+-----+--------------------+------+--------+-------------+---------+--------------------+------+-------------+--------------------+------+-----+-------+------+\n",
      "|Sleeping With Sirens|Logged In| Darianna|     F|            0|Carpenter|202.97098| free|Bridgeport-Stamfo...|   PUT|NextSong|1538016340000|       31|Captain Tyin Knot...|   200|1539003534000|\"Mozilla/5.0 (iPh...|100010|    0| safari|iphone|\n",
      "+--------------------+---------+---------+------+-------------+---------+---------+-----+--------------------+------+--------+-------------+---------+--------------------+------+-------------+--------------------+------+-----+-------+------+\n",
      "only showing top 1 row\n",
      "\n"
     ]
    }
   ],
   "source": [
    "df_valid_new.show(1)"
   ]
  },
  {
   "cell_type": "code",
   "execution_count": 51,
   "metadata": {},
   "outputs": [
    {
     "name": "stdout",
     "output_type": "stream",
     "text": [
      "+-----+-------+-----+-----+------------------+\n",
      "|Churn|browser|Users|total|           Percent|\n",
      "+-----+-------+-----+-----+------------------+\n",
      "|    1|firefox|   16|   50|              32.0|\n",
      "|    0|firefox|   34|   50|              68.0|\n",
      "|    0| chrome|   92|  117| 78.63247863247864|\n",
      "|    1| chrome|   25|  117|21.367521367521366|\n",
      "|    1|     ie|    1|   12| 8.333333333333334|\n",
      "|    0|     ie|   11|   12| 91.66666666666667|\n",
      "|    1| safari|   10|   46| 21.73913043478261|\n",
      "|    0| safari|   36|   46| 78.26086956521739|\n",
      "+-----+-------+-----+-----+------------------+\n",
      "\n"
     ]
    },
    {
     "data": {
      "image/png": "[encoded data removed]",
      "text/plain": [
       "<matplotlib.figure.Figure at 0x7ff0f4080630>"
      ]
     },
     "metadata": {},
     "output_type": "display_data"
    }
   ],
   "source": [
    "# Distribution of Users by Churn and browser\n",
    "churn_browser_counts = df_valid_new.groupBy([\"Churn\",\"browser\"]).agg(countDistinct(\"userId\").alias(\"Users\"))\\\n",
    "                      .withColumn('total', F.sum('Users').over(Window.partitionBy('browser')))\\\n",
    "                      .withColumn('Percent', F.col('Users')*100/F.col('total'))\n",
    "\n",
    "churn_browser_counts.show()\n",
    "\n",
    "sns.set_style(\"white\")\n",
    "plt.figure(figsize=(16, 6))\n",
    "#sns.set_palette(\"Set1\",n_colors=8, desat=.5)\n",
    "sns.set_palette('muted')\n",
    "plt.title('Distribution of Users by churn and browser',fontsize= 20)\n",
    "ax = sns.barplot(x=\"Percent\", y=\"browser\", hue=\"Churn\", data=churn_browser_counts.toPandas(),capsize=.2)"
   ]
  },
  {
   "cell_type": "code",
   "execution_count": 53,
   "metadata": {},
   "outputs": [
    {
     "name": "stdout",
     "output_type": "stream",
     "text": [
      "+-----+-------+-----+-----+------------------+\n",
      "|Churn|     os|Users|total|           Percent|\n",
      "+-----+-------+-----+-----+------------------+\n",
      "|    1| iphone|    4|   13| 30.76923076923077|\n",
      "|    0| iphone|    9|   13| 69.23076923076923|\n",
      "|    1|  linux|    5|   12|41.666666666666664|\n",
      "|    0|  linux|    7|   12|58.333333333333336|\n",
      "|    0|    mac|   67|   86| 77.90697674418605|\n",
      "|    1|    mac|   19|   86|22.093023255813954|\n",
      "|    0|   ipad|    3|    3|             100.0|\n",
      "|    1|windows|   24|  111| 21.62162162162162|\n",
      "|    0|windows|   87|  111| 78.37837837837837|\n",
      "+-----+-------+-----+-----+------------------+\n",
      "\n"
     ]
    },
    {
     "data": {
      "image/png": "[encoded data removed]",
      "text/plain": [
       "<matplotlib.figure.Figure at 0x7fa37f45f6d8>"
      ]
     },
     "metadata": {},
     "output_type": "display_data"
    }
   ],
   "source": [
    "# Distribution of Users by Churn and os\n",
    "churn_os_counts = df_valid_new.groupBy([\"Churn\",\"os\"]).agg(countDistinct(\"userId\").alias(\"Users\"))\\\n",
    "                      .withColumn('total', F.sum('Users').over(Window.partitionBy('os')))\\\n",
    "                      .withColumn('Percent', F.col('Users')*100/F.col('total'))\n",
    "\n",
    "churn_os_counts.show()\n",
    "\n",
    "sns.set_style(\"white\")\n",
    "plt.figure(figsize=(16, 6))\n",
    "#sns.set_palette(\"Set1\",n_colors=8, desat=.5)\n",
    "sns.set_palette('muted')\n",
    "plt.title('Distribution of Users by churn and os',fontsize= 20)\n",
    "ax = sns.barplot(x=\"Percent\", y=\"os\", hue=\"Churn\", data=churn_os_counts.toPandas(),capsize=.2)"
   ]
  },
  {
   "cell_type": "markdown",
   "metadata": {},
   "source": [
    "# Feature Engineering\n",
    "Once you've familiarized yourself with the data, build out the features you find promising to train your model on. To work with the full dataset, you can follow the following steps.\n",
    "- Write a script to extract the necessary features from the smaller subset of data\n",
    "- Ensure that your script is scalable, using the best practices discussed in Lesson 3\n",
    "- Try your script on the full data set, debugging your script if necessary\n",
    "\n",
    "If you are working in the classroom workspace, you can just extract features based on the small subset of data contained here. Be sure to transfer over this work to the larger dataset when you work on your Spark cluster."
   ]
  },
  {
   "cell_type": "code",
   "execution_count": 16,
   "metadata": {},
   "outputs": [
    {
     "name": "stdout",
     "output_type": "stream",
     "text": [
      "+------+-----------+\n",
      "|userId|total_songs|\n",
      "+------+-----------+\n",
      "|100010|        381|\n",
      "|200002|        474|\n",
      "|   125|         11|\n",
      "|   124|       4825|\n",
      "|    51|       2464|\n",
      "+------+-----------+\n",
      "only showing top 5 rows\n",
      "\n"
     ]
    }
   ],
   "source": [
    "# Feature 1 : Total number of  songs listened\n",
    "Feature_Song_Total_Count = df_valid_new.select('userId', 'song').groupBy('userId').count().withColumnRenamed('count', 'total_songs')\n",
    "Feature_Song_Total_Count.show(5)"
   ]
  },
  {
   "cell_type": "code",
   "execution_count": 21,
   "metadata": {},
   "outputs": [
    {
     "name": "stdout",
     "output_type": "stream",
     "text": [
      "+------+---------------+\n",
      "|userId|total_thumbs_up|\n",
      "+------+---------------+\n",
      "|100010|             17|\n",
      "|200002|             21|\n",
      "|   124|            171|\n",
      "|    51|            100|\n",
      "|     7|              7|\n",
      "+------+---------------+\n",
      "only showing top 5 rows\n",
      "\n"
     ]
    }
   ],
   "source": [
    "# Feature 2 : Number of thumbs up\n",
    "Feature_Total_ThumbsUp = df_valid_new.select('userId', 'page').where(df_valid_new.page == 'Thumbs Up').groupBy('userId').count().withColumnRenamed('count', 'total_thumbs_up')\n",
    "Feature_Total_ThumbsUp.show(5)"
   ]
  },
  {
   "cell_type": "code",
   "execution_count": 22,
   "metadata": {},
   "outputs": [
    {
     "name": "stdout",
     "output_type": "stream",
     "text": [
      "+------+-----------------+\n",
      "|userId|total_thumbs_down|\n",
      "+------+-----------------+\n",
      "|100010|                5|\n",
      "|200002|                6|\n",
      "|   124|               41|\n",
      "|    51|               21|\n",
      "|     7|                1|\n",
      "+------+-----------------+\n",
      "only showing top 5 rows\n",
      "\n"
     ]
    }
   ],
   "source": [
    "# Feature 3 : Number of thumbs down\n",
    "Feature_Total_ThumbsDown = df_valid_new.select('userId', 'page').where(df_valid_new.page == 'Thumbs Down').groupBy('userId').count().withColumnRenamed('count', 'total_thumbs_down')\n",
    "Feature_Total_ThumbsDown.show(5)"
   ]
  },
  {
   "cell_type": "code",
   "execution_count": 23,
   "metadata": {},
   "outputs": [
    {
     "name": "stdout",
     "output_type": "stream",
     "text": [
      "+------+------------------+\n",
      "|userId|    total_lifetime|\n",
      "+------+------------------+\n",
      "|100010|  55.6436574074074|\n",
      "|200002| 70.07462962962963|\n",
      "|   125| 71.31688657407408|\n",
      "|   124|131.55591435185184|\n",
      "|    51|19.455844907407407|\n",
      "+------+------------------+\n",
      "only showing top 5 rows\n",
      "\n"
     ]
    }
   ],
   "source": [
    "# Feature 4 : Total time since registration\n",
    "Feature_RegistrationTime = df_valid_new.select('userId', 'registration', 'ts').withColumn('tot_lifetime', (df_valid_new.ts - df_valid_new.registration))\\\n",
    "    .groupBy('userId').agg({'tot_lifetime' : 'max'})\\\n",
    "    .withColumnRenamed('max(tot_lifetime)', 'tot_lifetime')\\\n",
    "    .select('userId', (col('tot_lifetime')/1000/3600/24).alias('total_lifetime'))\n",
    "Feature_RegistrationTime.show(5)"
   ]
  },
  {
   "cell_type": "code",
   "execution_count": 24,
   "metadata": {},
   "outputs": [
    {
     "name": "stdout",
     "output_type": "stream",
     "text": [
      "+------+------------------+\n",
      "|userId| total_listen_time|\n",
      "+------+------------------+\n",
      "|100010| 66940.89735000003|\n",
      "|200002| 94008.87593999993|\n",
      "|   125|2089.1131000000005|\n",
      "|   124|1012312.0927899999|\n",
      "|    51| 523275.8428000004|\n",
      "+------+------------------+\n",
      "only showing top 5 rows\n",
      "\n"
     ]
    }
   ],
   "source": [
    "# Feature 5 : Total length of listening utilizing all services\n",
    "Feature_Total_ListenTime= df_valid_new.select(\"userId\", 'length').groupBy('userId').sum().withColumnRenamed('sum(length)', 'total_listen_time')\n",
    "Feature_Total_ListenTime.show(5)"
   ]
  },
  {
   "cell_type": "code",
   "execution_count": 25,
   "metadata": {},
   "outputs": [
    {
     "name": "stdout",
     "output_type": "stream",
     "text": [
      "+------+-------------+\n",
      "|userId|total_friends|\n",
      "+------+-------------+\n",
      "|100010|            4|\n",
      "|200002|            4|\n",
      "|   124|           74|\n",
      "|    51|           28|\n",
      "|     7|            1|\n",
      "+------+-------------+\n",
      "only showing top 5 rows\n",
      "\n"
     ]
    }
   ],
   "source": [
    "# Feature 6 : Total number of friends\n",
    "Feature_Total_Friends_Count= df_valid_new.select('userId', 'page').where(df_valid_new.page == 'Add Friend').groupBy('userId').count().withColumnRenamed('count', 'total_friends')\n",
    "Feature_Total_Friends_Count.show(5)"
   ]
  },
  {
   "cell_type": "code",
   "execution_count": 26,
   "metadata": {},
   "outputs": [
    {
     "name": "stdout",
     "output_type": "stream",
     "text": [
      "+------+------+\n",
      "|userId|gender|\n",
      "+------+------+\n",
      "|100010|     0|\n",
      "|200002|     1|\n",
      "|   125|     1|\n",
      "|   124|     0|\n",
      "|    51|     1|\n",
      "+------+------+\n",
      "only showing top 5 rows\n",
      "\n"
     ]
    }
   ],
   "source": [
    "# Feature 7 : Gender of the user\n",
    "Feature_Gender = df_valid_new.select('userId', 'gender').dropDuplicates().replace(['F', 'M'], ['0', '1'], 'gender').select('userId', col('gender').cast('int'))\n",
    "Feature_Gender.show(5)"
   ]
  },
  {
   "cell_type": "code",
   "execution_count": 27,
   "metadata": {},
   "outputs": [
    {
     "name": "stdout",
     "output_type": "stream",
     "text": [
      "+------+------------------+\n",
      "|userId|  avg_played_songs|\n",
      "+------+------------------+\n",
      "|100010|39.285714285714285|\n",
      "|200002|              64.5|\n",
      "|   125|               8.0|\n",
      "|   124|145.67857142857142|\n",
      "|    51|             211.1|\n",
      "+------+------------------+\n",
      "only showing top 5 rows\n",
      "\n"
     ]
    }
   ],
   "source": [
    "# Feature 8 : Total number of songs listened per session\n",
    "Feature_Avg_Played_Songs = df_valid_new.where('page == \"NextSong\"').groupby(['userId', 'sessionId']).count().groupby('userId')\\\n",
    "          .agg({'count' : 'avg'}).withColumnRenamed('avg(count)', 'avg_played_songs')\n",
    "\n",
    "Feature_Avg_Played_Songs.show(5)"
   ]
  },
  {
   "cell_type": "code",
   "execution_count": 28,
   "metadata": {},
   "outputs": [
    {
     "name": "stdout",
     "output_type": "stream",
     "text": [
      "+------+-------------------+\n",
      "|userId|total_artist_played|\n",
      "+------+-------------------+\n",
      "|100010|                252|\n",
      "|200002|                339|\n",
      "|   125|                  8|\n",
      "|   124|               2232|\n",
      "|    51|               1385|\n",
      "+------+-------------------+\n",
      "only showing top 5 rows\n",
      "\n"
     ]
    }
   ],
   "source": [
    "# Feature 9 : Total number of artists the user has listened to\n",
    "Feature_Total_Artist_Played = df_valid_new.filter(df.page == \"NextSong\").select(\"userId\", \"artist\").dropDuplicates().groupby(\"userId\").count()\\\n",
    "         .withColumnRenamed(\"count\", \"total_artist_played\")\n",
    "Feature_Total_Artist_Played.show(5)"
   ]
  },
  {
   "cell_type": "code",
   "execution_count": 29,
   "metadata": {},
   "outputs": [
    {
     "name": "stdout",
     "output_type": "stream",
     "text": [
      "+------+-----+\n",
      "|userId|label|\n",
      "+------+-----+\n",
      "|100010|    0|\n",
      "|200002|    0|\n",
      "|   125|    1|\n",
      "|   124|    0|\n",
      "|    51|    1|\n",
      "+------+-----+\n",
      "only showing top 5 rows\n",
      "\n"
     ]
    }
   ],
   "source": [
    "# setting the churn label for our model\n",
    "Label = df_valid_new.select('userId', col('churn').alias('label')).dropDuplicates()\n",
    "Label.show(5)"
   ]
  },
  {
   "cell_type": "code",
   "execution_count": 30,
   "metadata": {},
   "outputs": [
    {
     "name": "stdout",
     "output_type": "stream",
     "text": [
      "+-----------+---------------+-----------------+------------------+------------------+-------------+------+------------------+-------------------+-----+\n",
      "|total_songs|total_thumbs_up|total_thumbs_down|    total_lifetime| total_listen_time|total_friends|gender|  avg_played_songs|total_artist_played|label|\n",
      "+-----------+---------------+-----------------+------------------+------------------+-------------+------+------------------+-------------------+-----+\n",
      "|        381|             17|                5|  55.6436574074074| 66940.89735000003|            4|     0|39.285714285714285|                252|    0|\n",
      "|        474|             21|                6| 70.07462962962963| 94008.87593999993|            4|     1|              64.5|                339|    0|\n",
      "|       4825|            171|               41|131.55591435185184|1012312.0927899999|           74|     0|145.67857142857142|               2232|    0|\n",
      "|       2464|            100|               21|19.455844907407407| 523275.8428000004|           28|     1|             211.1|               1385|    1|\n",
      "|        201|              7|                1| 72.77818287037037| 38034.08710000002|            1|     1|21.428571428571427|                142|    0|\n",
      "+-----------+---------------+-----------------+------------------+------------------+-------------+------+------------------+-------------------+-----+\n",
      "only showing top 5 rows\n",
      "\n"
     ]
    }
   ],
   "source": [
    "# Combining all features with the target churn label\n",
    "Final_data = Feature_Song_Total_Count.join(Feature_Total_ThumbsUp, 'userId', 'inner').join(Feature_Total_ThumbsDown, 'userId', 'inner').join(Feature_RegistrationTime, 'userId', 'inner')\\\n",
    "             .join(Feature_Total_ListenTime, 'userId', 'inner').join(Feature_Total_Friends_Count, 'userId', 'inner').join(Feature_Gender , 'userId', 'inner')\\\n",
    "             .join(Feature_Avg_Played_Songs, 'userId', 'inner').join(Feature_Total_Artist_Played, 'userId', 'inner').join(Label, 'userId', 'inner').drop('userId')\n",
    "\n",
    "Final_data.show(5)"
   ]
  },
  {
   "cell_type": "code",
   "execution_count": 25,
   "metadata": {},
   "outputs": [
    {
     "name": "stdout",
     "output_type": "stream",
     "text": [
      "+-----+-----+\n",
      "|label|count|\n",
      "+-----+-----+\n",
      "|    1|   43|\n",
      "|    0|  150|\n",
      "+-----+-----+\n",
      "\n"
     ]
    }
   ],
   "source": [
    "Final_data.groupby('label').count().show()"
   ]
  },
  {
   "cell_type": "code",
   "execution_count": 31,
   "metadata": {},
   "outputs": [],
   "source": [
    "features = ['total_songs','total_thumbs_up','total_thumbs_down','total_lifetime','total_listen_time','total_friends','gender','avg_played_songs','total_artist_played']\n"
   ]
  },
  {
   "cell_type": "code",
   "execution_count": 32,
   "metadata": {},
   "outputs": [
    {
     "name": "stdout",
     "output_type": "stream",
     "text": [
      "+-----------+---------------+-----------------+------------------+------------------+-------------+------+------------------+-------------------+-----+--------------------+\n",
      "|total_songs|total_thumbs_up|total_thumbs_down|    total_lifetime| total_listen_time|total_friends|gender|  avg_played_songs|total_artist_played|label|         NumFeatures|\n",
      "+-----------+---------------+-----------------+------------------+------------------+-------------+------+------------------+-------------------+-----+--------------------+\n",
      "|        381|             17|                5|  55.6436574074074| 66940.89735000003|            4|     0|39.285714285714285|                252|    0|[381.0,17.0,5.0,5...|\n",
      "|        474|             21|                6| 70.07462962962963| 94008.87593999993|            4|     1|              64.5|                339|    0|[474.0,21.0,6.0,7...|\n",
      "|       4825|            171|               41|131.55591435185184|1012312.0927899999|           74|     0|145.67857142857142|               2232|    0|[4825.0,171.0,41....|\n",
      "|       2464|            100|               21|19.455844907407407| 523275.8428000004|           28|     1|             211.1|               1385|    1|[2464.0,100.0,21....|\n",
      "|        201|              7|                1| 72.77818287037037| 38034.08710000002|            1|     1|21.428571428571427|                142|    0|[201.0,7.0,1.0,72...|\n",
      "+-----------+---------------+-----------------+------------------+------------------+-------------+------+------------------+-------------------+-----+--------------------+\n",
      "only showing top 5 rows\n",
      "\n"
     ]
    }
   ],
   "source": [
    "#Vectorize and Scale\n",
    "assembler = VectorAssembler(inputCols=features, outputCol=\"NumFeatures\")\n",
    "Final_data = assembler.transform(Final_data)\n",
    "Final_data.show(5)"
   ]
  },
  {
   "cell_type": "code",
   "execution_count": 33,
   "metadata": {},
   "outputs": [],
   "source": [
    "scaler = StandardScaler(inputCol=\"NumFeatures\", outputCol=\"ScaledFeatures\")\n",
    "scaler_model = scaler.fit(Final_data)\n",
    "Final_data = scaler_model.transform(Final_data)"
   ]
  },
  {
   "cell_type": "code",
   "execution_count": 34,
   "metadata": {},
   "outputs": [
    {
     "name": "stdout",
     "output_type": "stream",
     "text": [
      "+-----+--------------------+\n",
      "|label|            features|\n",
      "+-----+--------------------+\n",
      "|    0|[0.28303716272111...|\n",
      "|    0|[0.35212497409397...|\n",
      "|    0|[3.58439451477521...|\n",
      "|    1|[1.83045556153494...|\n",
      "|    0|[0.14931881812845...|\n",
      "+-----+--------------------+\n",
      "only showing top 5 rows\n",
      "\n"
     ]
    }
   ],
   "source": [
    "#Spark dataframes are not used like that in Spark ML; all your features need to be vectors in a single column, usually named features\n",
    "data = Final_data.select(Final_data.label,Final_data.ScaledFeatures.alias(\"features\"))\n",
    "data.show(5)"
   ]
  },
  {
   "cell_type": "markdown",
   "metadata": {},
   "source": [
    "# Modeling\n",
    "Split the full dataset into train, test, and validation sets. Test out several of the machine learning methods you learned. Evaluate the accuracy of the various models, tuning parameters as necessary. Determine your winning model based on test accuracy and report results on the validation set. Since the churned users are a fairly small subset, I suggest using F1 score as the metric to optimize."
   ]
  },
  {
   "cell_type": "code",
   "execution_count": 35,
   "metadata": {},
   "outputs": [],
   "source": [
    "train, test = data.randomSplit([0.75, 0.25], seed=42)"
   ]
  },
  {
   "cell_type": "code",
   "execution_count": 42,
   "metadata": {},
   "outputs": [
    {
     "name": "stdout",
     "output_type": "stream",
     "text": [
      "Random Forest Metrics :\n",
      "The F-1 Score is 0.7804878048780488\n",
      "The accuracy is 0.7520931925737168\n"
     ]
    }
   ],
   "source": [
    "# Approach 1 : Random Forest Classifier\n",
    "rf_clf = RandomForestClassifier()\n",
    "\n",
    "f1_evaluation = MulticlassClassificationEvaluator(metricName = 'f1')\n",
    "param_grid = ParamGridBuilder().build()\n",
    "rf_crossval = CrossValidator(estimator = rf_clf, estimatorParamMaps = param_grid, evaluator = f1_evaluation, numFolds = 2)\n",
    "\n",
    "rf_model = rf_crossval.fit(train)\n",
    "rf_predict = rf_model.transform(test)\n",
    "\n",
    "evaluator = MulticlassClassificationEvaluator(predictionCol = \"prediction\")\n",
    "print(\"Random Forest Metrics :\")\n",
    "print(\"The F-1 Score is {}\".format(evaluator.evaluate(rf_predict , {evaluator.metricName : \"accuracy\"})))\n",
    "print(\"The accuracy is {}\".format(evaluator.evaluate(rf_predict , {evaluator.metricName : \"f1\"})))"
   ]
  },
  {
   "cell_type": "code",
   "execution_count": 43,
   "metadata": {},
   "outputs": [
    {
     "name": "stdout",
     "output_type": "stream",
     "text": [
      "Logistic Regression Metrics :\n",
      "The F-1 Score is 0.8048780487804879\n",
      "The accuracy is 0.7716745234679236\n"
     ]
    }
   ],
   "source": [
    "#Approach 2: Logistic regression\n",
    "lr_clf = LogisticRegression(maxIter=10,regParam=0.0,elasticNetParam=0)\n",
    "\n",
    "f1_evaluation = MulticlassClassificationEvaluator(metricName = 'f1')\n",
    "param_grid = ParamGridBuilder().build()\n",
    "lr_crossval = CrossValidator(estimator = lr_clf, estimatorParamMaps = param_grid, evaluator = f1_evaluation, numFolds = 2)\n",
    "\n",
    "lr_model = lr_crossval.fit(train)\n",
    "lr_predict = lr_model.transform(test)\n",
    "\n",
    "evaluator = MulticlassClassificationEvaluator(predictionCol = \"prediction\")\n",
    "print(\"Logistic Regression Metrics :\")\n",
    "print(\"The F-1 Score is {}\".format(evaluator.evaluate(lr_predict , {evaluator.metricName : \"accuracy\"})))\n",
    "print(\"The accuracy is {}\".format(evaluator.evaluate(lr_predict , {evaluator.metricName : \"f1\"})))"
   ]
  },
  {
   "cell_type": "code",
   "execution_count": 40,
   "metadata": {},
   "outputs": [
    {
     "name": "stdout",
     "output_type": "stream",
     "text": [
      "Support Vector Machine Metrics :\n",
      "The F-1 Score is 0.7560975609756098\n",
      "The accuracy is 0.6510840108401085\n"
     ]
    }
   ],
   "source": [
    "#Approach 3: SVM\n",
    "svm_clf = LinearSVC(maxIter=10)\n",
    "\n",
    "f1_evaluation = MulticlassClassificationEvaluator(metricName = 'f1')\n",
    "param_grid = ParamGridBuilder().build()\n",
    "svm_crossval = CrossValidator(estimator = svm_clf, estimatorParamMaps = param_grid, evaluator = f1_evaluation, numFolds = 2)\n",
    "\n",
    "svm_model = svm_crossval.fit(train)\n",
    "svm_predict = svm_model.transform(test)\n",
    "\n",
    "evaluator = MulticlassClassificationEvaluator(predictionCol = \"prediction\")\n",
    "print(\"Support Vector Machine Metrics :\")\n",
    "print(\"The F-1 Score is {}\".format(evaluator.evaluate(svm_predict , {evaluator.metricName : \"accuracy\"})))\n",
    "print(\"The accuracy is {}\".format(evaluator.evaluate(svm_predict , {evaluator.metricName : \"f1\"})))"
   ]
  },
  {
   "cell_type": "code",
   "execution_count": 49,
   "metadata": {},
   "outputs": [
    {
     "name": "stdout",
     "output_type": "stream",
     "text": [
      "Gradient Boosting Trees Metrics :\n",
      "The F-1 Score is 0.7317073170731707\n",
      "The accuracy is 0.7267762903192941\n"
     ]
    }
   ],
   "source": [
    "#Approach 4: Gradient Boosting Trees Classification\n",
    "gbt_clf = GBTClassifier(maxIter=10,seed=42)\n",
    "f1_evaluation = MulticlassClassificationEvaluator(metricName = 'f1')\n",
    "\n",
    "param_grid = ParamGridBuilder().build()\n",
    "gbt_crossval = CrossValidator(estimator = gbt_clf, estimatorParamMaps = param_grid, evaluator = f1_evaluation, numFolds = 2)\n",
    "\n",
    "gbt_model = gbt_crossval.fit(train)\n",
    "gbt_predict = gbt_model.transform(test)\n",
    "\n",
    "evaluator = MulticlassClassificationEvaluator(predictionCol = \"prediction\")\n",
    "print(\"Gradient Boosting Trees Metrics :\")\n",
    "print(\"The F-1 Score is {}\".format(evaluator.evaluate(gbt_predict , {evaluator.metricName : \"accuracy\"})))\n",
    "print(\"The accuracy is {}\".format(evaluator.evaluate(gbt_predict , {evaluator.metricName : \"f1\"})))"
   ]
  },
  {
   "cell_type": "code",
   "execution_count": 43,
   "metadata": {},
   "outputs": [
    {
     "name": "stdout",
     "output_type": "stream",
     "text": [
      "+-----+--------------------+\n",
      "|label|            features|\n",
      "+-----+--------------------+\n",
      "|    0|[0.35212497409397...|\n",
      "|    0|[3.58439451477521...|\n",
      "|    0|[1.69227993878920...|\n",
      "|    0|[0.21692087011696...|\n",
      "|    0|[3.16243884961618...|\n",
      "+-----+--------------------+\n",
      "only showing top 5 rows\n",
      "\n"
     ]
    }
   ],
   "source": [
    "test.show(5)"
   ]
  },
  {
   "cell_type": "code",
   "execution_count": null,
   "metadata": {},
   "outputs": [],
   "source": [
    "#From the results above, we can see that random forest is the best model as it has the highest F1 Score of 0.8."
   ]
  },
  {
   "cell_type": "code",
   "execution_count": null,
   "metadata": {},
   "outputs": [],
   "source": [
    "#The following are hyper-parameters used for grid search in the ML pipeline. \n",
    "\"\"\"\n",
    "Random forest\n",
    "maxDepth: 2,4,6,8\n",
    "\"\"\""
   ]
  },
  {
   "cell_type": "code",
   "execution_count": 50,
   "metadata": {},
   "outputs": [
    {
     "name": "stdout",
     "output_type": "stream",
     "text": [
      "Best Param (maxDepth):  6\n"
     ]
    }
   ],
   "source": [
    "#Modelling with grid search of hyperparameters\n",
    "\n",
    "rf = RandomForestClassifier()\n",
    "paramGrid_rf = ParamGridBuilder()\\\n",
    "    .addGrid(rf.maxDepth,[2, 4, 6, 8]) \\\n",
    "    .build()\n",
    "f1_evaluation = MulticlassClassificationEvaluator(metricName = 'f1')\n",
    "crossval = CrossValidator(estimator=rf,\n",
    "                          estimatorParamMaps=paramGrid_rf,\n",
    "                          evaluator=f1_evaluation,\n",
    "                          numFolds=2)  # use 3+ folds in practice.\n",
    "cvModel = crossval.fit(train)\n",
    "bestModel = cvModel.bestModel\n",
    "\n",
    "print ('Best Param (maxDepth): ', bestModel._java_obj.getMaxDepth())"
   ]
  },
  {
   "cell_type": "code",
   "execution_count": null,
   "metadata": {},
   "outputs": [],
   "source": [
    "#Plot feature importance"
   ]
  },
  {
   "cell_type": "code",
   "execution_count": 51,
   "metadata": {},
   "outputs": [
    {
     "name": "stdout",
     "output_type": "stream",
     "text": [
      "Feature Importance: (9,[0,1,2,3,4,5,6,7,8],[0.153155565636,0.0930370652814,0.10866439855,0.358080048989,0.0664255354556,0.0887710052955,0.00526960716231,0.0662347311578,0.0603620424716])\n"
     ]
    }
   ],
   "source": [
    "print ('Feature Importance:',bestModel.featureImportances)"
   ]
  },
  {
   "cell_type": "code",
   "execution_count": 52,
   "metadata": {},
   "outputs": [
    {
     "data": {
      "image/png": "[encoded data removed]",
      "text/plain": [
       "<matplotlib.figure.Figure at 0x7f3a2437e080>"
      ]
     },
     "metadata": {
      "needs_background": "light"
     },
     "output_type": "display_data"
    }
   ],
   "source": [
    "feature_cols = Final_data.columns[:-1]\n",
    "feature_ind = bestModel.featureImportances.indices.tolist()\n",
    "feature_name = [feature_cols[ind] for ind in feature_ind]\n",
    "feature_coef = bestModel.featureImportances.values.tolist()\n",
    "feature_coef_df = pd.DataFrame(list(zip(feature_name, feature_coef)), columns=['Feature', 'Coefficient'])\\\n",
    "            .sort_values('Coefficient', ascending=False)\n",
    "plt.figure(figsize=(20,5))\n",
    "sns.barplot(x='Feature', y='Coefficient', data=feature_coef_df)\n",
    "plt.title('Feature importance for {}'.format('RandomForestClassifier'), fontsize=20)\n",
    "plt.xlabel('Features', fontsize=17)\n",
    "plt.ylabel('Coefficient', fontsize=17)\n",
    "plt.xticks(rotation=45, ha='right', fontsize=15)\n",
    "plt.yticks(fontsize=15)\n",
    "plt.tight_layout()\n",
    "plt.savefig('feature_importance_{}.png'.format('RandomForestClassifier'))\n",
    "plt.show()"
   ]
  },
  {
   "cell_type": "markdown",
   "metadata": {},
   "source": [
    "# Final Steps\n",
    "Clean up your code, adding comments and renaming variables to make the code easier to read and maintain. Refer to the Spark Project Overview page and Data Scientist Capstone Project Rubric to make sure you are including all components of the capstone project and meet all expectations. Remember, this includes thorough documentation in a README file in a Github repository, as well as a web app or blog post."
   ]
  },
  {
   "cell_type": "code",
   "execution_count": null,
   "metadata": {},
   "outputs": [],
   "source": []
  }
 ],
 "metadata": {
  "kernelspec": {
   "display_name": "Python 3",
   "language": "python",
   "name": "python3"
  },
  "language_info": {
   "codemirror_mode": {
    "name": "ipython",
    "version": 3
   },
   "file_extension": ".py",
   "mimetype": "text/x-python",
   "name": "python",
   "nbconvert_exporter": "python",
   "pygments_lexer": "ipython3",
   "version": "3.6.3"
  }
 },
 "nbformat": 4,
 "nbformat_minor": 2
}
